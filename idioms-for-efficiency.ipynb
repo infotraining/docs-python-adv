{
 "cells": [
  {
   "attachments": {},
   "cell_type": "markdown",
   "metadata": {},
   "source": [
    "# Idiomy - wydajność\n",
    "\n",
    "## Konkatenacja ciągów\n",
    "\n",
    "W przypadku łączenia mniejszych stringów w dłuższy ciąg znaków, należy unikać poniższej implementacji:"
   ]
  },
  {
   "cell_type": "code",
   "execution_count": 3,
   "metadata": {},
   "outputs": [],
   "source": [
    "list = [str(i) for i in range(100000)]"
   ]
  },
  {
   "cell_type": "code",
   "execution_count": 8,
   "metadata": {},
   "outputs": [
    {
     "name": "stdout",
     "output_type": "stream",
     "text": [
      "12.8 ms ± 1.31 ms per loop (mean ± std. dev. of 7 runs, 100 loops each)\n"
     ]
    }
   ],
   "source": [
    "%%timeit\n",
    "\n",
    "joined = \"\"\n",
    "for substring in list:\n",
    "    joined += substring"
   ]
  },
  {
   "attachments": {},
   "cell_type": "markdown",
   "metadata": {},
   "source": [
    "Konkatenacja napisu na końcu innego napisu (``s += substring``) jest bardzo kosztowna obliczeniowo.\n",
    "Wykonywanie tej operacji w pętli może znacząco spowolnić program.\n",
    "\n",
    "Dlatego lepiej jest użyć metody ``join``:"
   ]
  },
  {
   "cell_type": "code",
   "execution_count": 9,
   "metadata": {},
   "outputs": [
    {
     "name": "stdout",
     "output_type": "stream",
     "text": [
      "3.23 ms ± 1.76 ms per loop (mean ± std. dev. of 7 runs, 100 loops each)\n"
     ]
    }
   ],
   "source": [
    "%%timeit\n",
    "\n",
    "joined = ''.join(list)"
   ]
  },
  {
   "attachments": {},
   "cell_type": "markdown",
   "metadata": {},
   "source": [
    "Jako argument można przekazać także wyrażenie listowe, co jest przydatne, gdy napisy są generowane.\n"
   ]
  },
  {
   "cell_type": "code",
   "execution_count": 18,
   "metadata": {},
   "outputs": [
    {
     "data": {
      "text/plain": [
       "'One\\nTwo\\nThree\\nFour'"
      ]
     },
     "execution_count": 18,
     "metadata": {},
     "output_type": "execute_result"
    }
   ],
   "source": [
    "lines = [\"one\", \"two\", \"#comment\", \"three\", \"#comment\", \"four\"]\n",
    "\n",
    "no_comments = [line.capitalize() for line in lines if not line.startswith(\"#\")]\n",
    "joined = \"\\n\".join(no_comments)\n",
    "\n",
    "joined"
   ]
  },
  {
   "cell_type": "markdown",
   "metadata": {},
   "source": [
    "Podobnie, zamiast ręcznego łączenia stringów przy pomocy operatora ``+``:"
   ]
  },
  {
   "cell_type": "code",
   "execution_count": 20,
   "metadata": {},
   "outputs": [],
   "source": [
    "head = \"www.site.pl\"\n",
    "query = \"&q=costam\"\n",
    "tail = \"&u=ktos\"\n",
    "url = \"http://\" + head + query + tail + \"/\""
   ]
  },
  {
   "attachments": {},
   "cell_type": "markdown",
   "metadata": {},
   "source": [
    "lepiej jest użyć wbudowanej funkcji ``format``:"
   ]
  },
  {
   "cell_type": "code",
   "execution_count": 22,
   "metadata": {},
   "outputs": [
    {
     "data": {
      "text/plain": [
       "'http://www.site.pl&q=costam&u=ktos/'"
      ]
     },
     "execution_count": 22,
     "metadata": {},
     "output_type": "execute_result"
    }
   ],
   "source": [
    "url = \"http://{}{}{}/\".format(head, query, tail)"
   ]
  },
  {
   "attachments": {},
   "cell_type": "markdown",
   "metadata": {},
   "source": [
    "lub formatowanego string'a:"
   ]
  },
  {
   "cell_type": "code",
   "execution_count": 24,
   "metadata": {},
   "outputs": [
    {
     "data": {
      "text/plain": [
       "'http://www.site.pl&q=costam&u=ktos/'"
      ]
     },
     "execution_count": 24,
     "metadata": {},
     "output_type": "execute_result"
    }
   ],
   "source": [
    "url = f\"http://{head}{query}{tail}/\"\n",
    "url"
   ]
  },
  {
   "attachments": {},
   "cell_type": "markdown",
   "metadata": {},
   "source": [
    "## Sortowanie\n",
    "\n",
    "Sortowanie list jest wydajne w Pythonie, niestety użycie funkcji porównującej znacznie spowalnia proces.\n",
    "Aby tego uniknąć, można zastosować tzw. *\"Schwartzian Transform\"*, czyli utworzenie listy krotek, której pierwszy element to klucz sortowania:\n"
   ]
  },
  {
   "cell_type": "code",
   "execution_count": 28,
   "metadata": {},
   "outputs": [
    {
     "data": {
      "text/plain": [
       "[('Smith', ('John', 'Smith', 21)),\n",
       " ('Johnson', ('Alice', 'Johnson', 24)),\n",
       " ('Doe', ('John', 'Doe', 55))]"
      ]
     },
     "execution_count": 28,
     "metadata": {},
     "output_type": "execute_result"
    }
   ],
   "source": [
    "somelist = [('John', 'Smith', 21), ('Alice', 'Johnson', 24), ('John', 'Doe', 55)]\n",
    "\n",
    "n = 1  # sortowanie po drugim polu krotki, tj. po nazwisku\n",
    "nlist = [(x[n], x) for x in somelist]\n",
    "nlist"
   ]
  },
  {
   "cell_type": "code",
   "execution_count": 29,
   "metadata": {},
   "outputs": [
    {
     "data": {
      "text/plain": [
       "[('John', 'Doe', 55), ('Alice', 'Johnson', 24), ('John', 'Smith', 21)]"
      ]
     },
     "execution_count": 29,
     "metadata": {},
     "output_type": "execute_result"
    }
   ],
   "source": [
    "nlist.sort()\n",
    "\n",
    "somelist = [val for (key, val) in nlist]\n",
    "somelist"
   ]
  },
  {
   "attachments": {},
   "cell_type": "markdown",
   "metadata": {},
   "source": [
    "Krotki są porównywalne, a zatem można je także sortować.\n",
    "Z dwóch krotek ta jest mniejsza, której pierwszy element jest mniejszy:"
   ]
  },
  {
   "cell_type": "code",
   "execution_count": 30,
   "metadata": {},
   "outputs": [
    {
     "data": {
      "text/plain": [
       "True"
      ]
     },
     "execution_count": 30,
     "metadata": {},
     "output_type": "execute_result"
    }
   ],
   "source": [
    "(2, 42) < (3, 42)"
   ]
  },
  {
   "attachments": {},
   "cell_type": "markdown",
   "metadata": {},
   "source": [
    "Jeżeli pierwszy element jest taki sam, wówczas porównywany jest drugi element:"
   ]
  },
  {
   "cell_type": "code",
   "execution_count": 31,
   "metadata": {},
   "outputs": [
    {
     "data": {
      "text/plain": [
       "True"
      ]
     },
     "execution_count": 31,
     "metadata": {},
     "output_type": "execute_result"
    }
   ],
   "source": [
    "('to samo', 2) < ('to samo', 20)"
   ]
  },
  {
   "attachments": {},
   "cell_type": "markdown",
   "metadata": {},
   "source": [
    "Jeżeli drugi element również jest taki sam, wówczas porównywany jest trzeci element itd.\n",
    "\n",
    "Od Pythona 2.4 i w 3.x możemy podać \"klucz\" według którego nastąpi sortowanie:"
   ]
  },
  {
   "cell_type": "code",
   "execution_count": 33,
   "metadata": {},
   "outputs": [],
   "source": [
    "import operator\n",
    "\n",
    "nlist.sort(key=operator.itemgetter(n))"
   ]
  },
  {
   "cell_type": "code",
   "execution_count": 32,
   "metadata": {},
   "outputs": [
    {
     "name": "stdout",
     "output_type": "stream",
     "text": [
      "4.73 ms ± 743 µs per loop (mean ± std. dev. of 7 runs, 100 loops each)\n",
      "13.3 ms ± 2.21 ms per loop (mean ± std. dev. of 7 runs, 100 loops each)\n"
     ]
    }
   ],
   "source": [
    "from random import randint\n",
    "nlist = [('bla', randint(0, 10000)) for _ in range(10000)]\n",
    "import operator\n",
    "%timeit sorted(nlist, key=operator.itemgetter(1))\n",
    "%timeit sorted([(x[1], x) for x in nlist])"
   ]
  },
  {
   "attachments": {},
   "cell_type": "markdown",
   "metadata": {},
   "source": [
    "## Pętle\n",
    "\n",
    "Zobaczmy, jak wygląda przykładowa pętla pracująca na liście słów:"
   ]
  },
  {
   "cell_type": "code",
   "execution_count": 43,
   "metadata": {},
   "outputs": [
    {
     "data": {
      "text/plain": [
       "109214"
      ]
     },
     "execution_count": 43,
     "metadata": {},
     "output_type": "execute_result"
    }
   ],
   "source": [
    "import re\n",
    "\n",
    "words = re.findall('\\w+', open('holmes.txt').read().lower())"
   ]
  },
  {
   "cell_type": "code",
   "execution_count": 44,
   "metadata": {},
   "outputs": [
    {
     "name": "stdout",
     "output_type": "stream",
     "text": [
      "36 ms ± 10.4 ms per loop (mean ± std. dev. of 7 runs, 10 loops each)\n"
     ]
    }
   ],
   "source": [
    "%%timeit\n",
    "\n",
    "new_list = []\n",
    "for word in words:\n",
    "    new_list.append(word.upper())"
   ]
  },
  {
   "attachments": {},
   "cell_type": "markdown",
   "metadata": {},
   "source": [
    "W takim przypadku należy pamiętać, że pętle to nie tylko *for*.\n",
    "\n",
    "Można użyć wbudowanej funkcji ``map``."
   ]
  },
  {
   "cell_type": "code",
   "execution_count": 45,
   "metadata": {},
   "outputs": [
    {
     "name": "stdout",
     "output_type": "stream",
     "text": [
      "367 ns ± 55.6 ns per loop (mean ± std. dev. of 7 runs, 1000000 loops each)\n"
     ]
    }
   ],
   "source": [
    "%%timeit\n",
    "\n",
    "new_list = map(str.upper, words)"
   ]
  },
  {
   "attachments": {},
   "cell_type": "markdown",
   "metadata": {},
   "source": [
    "Należy jednak unikać używania funkcji ``map`` i ``filter``, ponieważ wymaga to wywołania funkcji dla każdego elementu kolekcji, co jest dosyć kosztowne.\n",
    "\n",
    "Dlatego lepiej jest użyć wyrażeń listowych:\n"
   ]
  },
  {
   "cell_type": "code",
   "execution_count": 46,
   "metadata": {},
   "outputs": [
    {
     "name": "stdout",
     "output_type": "stream",
     "text": [
      "30.7 ms ± 7.97 ms per loop (mean ± std. dev. of 7 runs, 10 loops each)\n"
     ]
    }
   ],
   "source": [
    "%%timeit\n",
    "\n",
    "new_list = [w.upper() for w in words]"
   ]
  },
  {
   "attachments": {},
   "cell_type": "markdown",
   "metadata": {},
   "source": [
    "lub generatorowych:"
   ]
  },
  {
   "cell_type": "code",
   "execution_count": 48,
   "metadata": {},
   "outputs": [
    {
     "name": "stdout",
     "output_type": "stream",
     "text": [
      "494 ns ± 36.8 ns per loop (mean ± std. dev. of 7 runs, 1000000 loops each)\n"
     ]
    }
   ],
   "source": [
    "%%timeit\n",
    "\n",
    "new_iterator = (w.upper() for w in words)"
   ]
  },
  {
   "attachments": {},
   "cell_type": "markdown",
   "metadata": {},
   "source": [
    "### Unikanie przeszukiwania\n",
    "\n",
    "Jeśli nie możemy zrezygnować z pętli *for* należy ograniczyć użycie operatora ``.``.\n",
    "\n",
    "Z drugiej strony, należy pamiętać, iż zaciemnia to kod, dlatego ta technika powinna być stosowana tylko w sytuacji, gdy program wykonuje się za wolno.\n",
    "Nie ma sensu stosowanie jej \"na wszelki wypadek\"."
   ]
  },
  {
   "cell_type": "code",
   "execution_count": 50,
   "metadata": {},
   "outputs": [],
   "source": [
    "upper = str.upper\n",
    "new_list = []\n",
    "\n",
    "append = new_list.append\n",
    "for word in words:\n",
    "    append(upper(word))"
   ]
  },
  {
   "cell_type": "code",
   "execution_count": 53,
   "metadata": {},
   "outputs": [
    {
     "name": "stdout",
     "output_type": "stream",
     "text": [
      "34.3 ms ± 11.7 ms per loop (mean ± std. dev. of 7 runs, 10 loops each)\n"
     ]
    }
   ],
   "source": [
    "%%timeit\n",
    "\n",
    "new_list = []\n",
    "for word in words:\n",
    "    new_list.append(word.upper())"
   ]
  },
  {
   "cell_type": "code",
   "execution_count": 54,
   "metadata": {},
   "outputs": [
    {
     "name": "stdout",
     "output_type": "stream",
     "text": [
      "30.9 ms ± 16 ms per loop (mean ± std. dev. of 7 runs, 10 loops each)\n"
     ]
    }
   ],
   "source": [
    "%%timeit\n",
    "\n",
    "upper = str.upper\n",
    "new_list = []\n",
    "append = new_list.append\n",
    "\n",
    "for word in words:\n",
    "    append(upper(word))"
   ]
  },
  {
   "attachments": {},
   "cell_type": "markdown",
   "metadata": {},
   "source": [
    "Przykład ilustrujący czas wykonania poszczególnych operacji:"
   ]
  },
  {
   "attachments": {},
   "cell_type": "markdown",
   "metadata": {},
   "source": [
    "### Lokalne vs. globalne\n",
    "\n",
    "Czas dostępu do zmiennych lokalnych jest o wiele krótszy. Dlatego poniższy kod:"
   ]
  },
  {
   "cell_type": "code",
   "execution_count": 55,
   "metadata": {},
   "outputs": [],
   "source": [
    "def upper_words(old_list):\n",
    "    upper = str.upper\n",
    "    new_list = []\n",
    "    append = new_list.append\n",
    "    for word in old_list:\n",
    "        append(upper(word))\n",
    "    return newlist"
   ]
  },
  {
   "attachments": {},
   "cell_type": "markdown",
   "metadata": {},
   "source": [
    "jest szybszy niż:"
   ]
  },
  {
   "cell_type": "code",
   "execution_count": 56,
   "metadata": {},
   "outputs": [],
   "source": [
    "upper = str.upper\n",
    "\n",
    "def upper_words(old_list):\n",
    "    new_list = []\n",
    "    append = new_list.append\n",
    "    for word in old_list:\n",
    "        append(upper(word))\n",
    "    return new_list"
   ]
  },
  {
   "attachments": {},
   "cell_type": "markdown",
   "metadata": {},
   "source": [
    "## Słowniki\n",
    "\n",
    "\n",
    "Częstym motywem podczas pracy ze słownikami jest konieczność sprawdzenia, czy dany klucz istnieje, zanim powiązana wartość zostanie zmieniona.\n",
    "Na przykład, budowanie słownika częstotliwości występowania słów wygląda następująco:"
   ]
  },
  {
   "cell_type": "code",
   "execution_count": null,
   "metadata": {},
   "outputs": [],
   "source": [
    "import re\n",
    "\n",
    "words = re.findall('\\w+', open('holmes.txt').read().lower())"
   ]
  },
  {
   "cell_type": "code",
   "execution_count": 59,
   "metadata": {},
   "outputs": [
    {
     "name": "stdout",
     "output_type": "stream",
     "text": [
      "31.1 ms ± 7.66 ms per loop (mean ± std. dev. of 7 runs, 10 loops each)\n"
     ]
    }
   ],
   "source": [
    "%%timeit\n",
    "\n",
    "word_counter = {}\n",
    "for word in words:\n",
    "    if word not in word_counter:\n",
    "        word_counter[word] = 0\n",
    "    word_counter[word] += 1"
   ]
  },
  {
   "attachments": {},
   "cell_type": "markdown",
   "metadata": {},
   "source": [
    "Jeżeli słowo występuje w słowniku, to taki kod przeszukuje słownik dwukrotnie - raz w *if* i na końcu pętli, podczas inkrementacji wartości.\n",
    "Aby tego uniknąć, można użyć wyjątków:\n"
   ]
  },
  {
   "cell_type": "code",
   "execution_count": 60,
   "metadata": {},
   "outputs": [
    {
     "name": "stdout",
     "output_type": "stream",
     "text": [
      "28.7 ms ± 8.14 ms per loop (mean ± std. dev. of 7 runs, 10 loops each)\n"
     ]
    }
   ],
   "source": [
    "%%timeit\n",
    "\n",
    "word_counter = {}\n",
    "for word in words:\n",
    "    try:\n",
    "        word_counter[word] += 1\n",
    "    except KeyError:\n",
    "        word_counter[word] = 1"
   ]
  },
  {
   "attachments": {},
   "cell_type": "markdown",
   "metadata": {},
   "source": [
    "Alternatywnie, można też użyć metody ``get``:"
   ]
  },
  {
   "cell_type": "code",
   "execution_count": 63,
   "metadata": {},
   "outputs": [
    {
     "name": "stdout",
     "output_type": "stream",
     "text": [
      "27.1 ms ± 3.79 ms per loop (mean ± std. dev. of 7 runs, 10 loops each)\n"
     ]
    }
   ],
   "source": [
    "%%timeit\n",
    "\n",
    "word_counter = {}\n",
    "get = word_counter.get\n",
    "\n",
    "for word in words:\n",
    "    word_counter[word] = get(word, 0) + 1"
   ]
  },
  {
   "attachments": {},
   "cell_type": "markdown",
   "metadata": {},
   "source": [
    "Jednak w powyższym przypadku najlepiej będzie użyć ``defaultdict``:"
   ]
  },
  {
   "cell_type": "code",
   "execution_count": 65,
   "metadata": {},
   "outputs": [
    {
     "name": "stdout",
     "output_type": "stream",
     "text": [
      "39.5 ms ± 12.9 ms per loop (mean ± std. dev. of 7 runs, 10 loops each)\n"
     ]
    }
   ],
   "source": [
    "%%timeit\n",
    "\n",
    "from collections import defaultdict\n",
    "\n",
    "word_counter = defaultdict(int)\n",
    "for word in words:\n",
    "    word_counter[word] += 1\n",
    "\n"
   ]
  },
  {
   "attachments": {},
   "cell_type": "markdown",
   "metadata": {},
   "source": [
    "### Agregacja danych\n",
    "\n",
    "Python ma dość duży narzut na wywołanie funkcji i należy tego unikać, zwłaszcza w pętlach:"
   ]
  },
  {
   "cell_type": "code",
   "execution_count": 2,
   "metadata": {},
   "outputs": [
    {
     "name": "stdout",
     "output_type": "stream",
     "text": [
      "24.8 ms ± 4.53 ms per loop (mean ± std. dev. of 7 runs, 10 loops each)\n"
     ]
    }
   ],
   "source": [
    "counter = 0\n",
    "\n",
    "def count(i):\n",
    "    global counter\n",
    "    counter = counter + 1\n",
    "\n",
    "l = list(range(100000))\n",
    "\n",
    "%timeit for i in l: count(i)"
   ]
  },
  {
   "attachments": {},
   "cell_type": "markdown",
   "metadata": {},
   "source": [
    "Znacznie szybsze będzie jednokrotne wywołanie funkcji z przekazaniem całej kolekcji elementów:"
   ]
  },
  {
   "cell_type": "code",
   "execution_count": 3,
   "metadata": {},
   "outputs": [
    {
     "name": "stdout",
     "output_type": "stream",
     "text": [
      "11.1 ms ± 1.04 ms per loop (mean ± std. dev. of 7 runs, 100 loops each)\n"
     ]
    }
   ],
   "source": [
    "counter = 0\n",
    "\n",
    "def fast_count(list):\n",
    "    global counter\n",
    "    for i in list:\n",
    "        counter = counter + 1\n",
    "\n",
    "%timeit fast_count(l)"
   ]
  },
  {
   "attachments": {},
   "cell_type": "markdown",
   "metadata": {},
   "source": [
    "## Sloty\n",
    "\n",
    "Jeżeli program wykorzystuje dużo pamięci RAM i wynika to z tworzenia milionów małych obiektów, wtedy warto rozważyć dodanie do ich klasy atrybutu ``__slots__``.\n",
    "Domyślnie, każdy obiekt posiada słownik swoich atrybutów, co generuje spory narzut na pamięć.\n",
    "Jeśli nasza klasa nie korzysta z dynamicznej natury takiego słownika (tzn. nie dodaje dynamicznie nowych atrybutów), to można wyliczyć wszystkie atrybuty w ``__slots__``.\n",
    "Obiekty takiej klasy będą zachowywać się podobnie do struktury z C."
   ]
  },
  {
   "cell_type": "code",
   "execution_count": 4,
   "metadata": {},
   "outputs": [],
   "source": [
    "class Point(object):\n",
    "    __slots__ = [\"x\", \"y\"]\n"
   ]
  },
  {
   "cell_type": "code",
   "execution_count": 5,
   "metadata": {},
   "outputs": [
    {
     "ename": "AttributeError",
     "evalue": "'Point' object has no attribute 'z'",
     "output_type": "error",
     "traceback": [
      "\u001b[0;31m---------------------------------------------------------------------------\u001b[0m",
      "\u001b[0;31mAttributeError\u001b[0m                            Traceback (most recent call last)",
      "\u001b[0;32m<ipython-input-5-0ad9e402b8fa>\u001b[0m in \u001b[0;36m<module>\u001b[0;34m\u001b[0m\n\u001b[1;32m      2\u001b[0m \u001b[0mp\u001b[0m\u001b[0;34m.\u001b[0m\u001b[0mx\u001b[0m \u001b[0;34m=\u001b[0m \u001b[0;36m10\u001b[0m\u001b[0;34m\u001b[0m\u001b[0;34m\u001b[0m\u001b[0m\n\u001b[1;32m      3\u001b[0m \u001b[0mp\u001b[0m\u001b[0;34m.\u001b[0m\u001b[0my\u001b[0m \u001b[0;34m=\u001b[0m \u001b[0;36m20\u001b[0m\u001b[0;34m\u001b[0m\u001b[0;34m\u001b[0m\u001b[0m\n\u001b[0;32m----> 4\u001b[0;31m \u001b[0mp\u001b[0m\u001b[0;34m.\u001b[0m\u001b[0mz\u001b[0m \u001b[0;34m=\u001b[0m \u001b[0;36m30\u001b[0m\u001b[0;34m\u001b[0m\u001b[0;34m\u001b[0m\u001b[0m\n\u001b[0m",
      "\u001b[0;31mAttributeError\u001b[0m: 'Point' object has no attribute 'z'"
     ]
    }
   ],
   "source": [
    "p = Point()\n",
    "p.x = 10\n",
    "p.y = 20\n",
    "p.z = 30"
   ]
  },
  {
   "cell_type": "code",
   "execution_count": null,
   "metadata": {},
   "outputs": [],
   "source": []
  }
 ],
 "metadata": {
  "kernelspec": {
   "display_name": "jb",
   "language": "python",
   "name": "python3"
  },
  "language_info": {
   "codemirror_mode": {
    "name": "ipython",
    "version": 3
   },
   "file_extension": ".py",
   "mimetype": "text/x-python",
   "name": "python",
   "nbconvert_exporter": "python",
   "pygments_lexer": "ipython3",
   "version": "3.8.8"
  },
  "orig_nbformat": 4
 },
 "nbformat": 4,
 "nbformat_minor": 2
}
