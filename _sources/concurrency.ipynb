{
 "cells": [
  {
   "cell_type": "code",
   "execution_count": 17,
   "metadata": {},
   "outputs": [],
   "source": [
    "from queue import Queue\n",
    "import requests\n",
    "from threading import Thread\n",
    "from datetime import date, timedelta\n",
    "\n",
    "\n",
    "def producer(queue: Queue):\n",
    "    result = requests.get(url)    \n",
    "    queue.put(result.text)\n",
    "\n",
    "\n",
    "def consumer(queue: Queue):\n",
    "    counter = 0\n",
    "    while True:\n",
    "        html = queue.get()\n",
    "        counter += len(html)\n",
    "        print(f\"Sum of bytes is {counter}\")\n",
    "        queue.task_done()\n",
    "\n",
    "\n",
    "url = \"http://api.nbp.pl/api/exchangerates/tables/a/\"\n",
    "start_date = date(2023, 1, 1) \n",
    "end_date = date(2023, 1, 31)\n",
    "delta = end_date - start_date\n",
    "dates = [url + str(start_date + timedelta(days=i)) for i in range(delta.days + 1)]\n",
    "\n",
    "\n",
    "no_of_producers = 1\n",
    "no_of_consumers = 1\n",
    "\n",
    "producers = []"
   ]
  },
  {
   "cell_type": "code",
   "execution_count": 18,
   "metadata": {},
   "outputs": [
    {
     "data": {
      "text/plain": [
       "['http://api.nbp.pl/api/exchangerates/tables/a/2023-01-01',\n",
       " 'http://api.nbp.pl/api/exchangerates/tables/a/2023-01-02',\n",
       " 'http://api.nbp.pl/api/exchangerates/tables/a/2023-01-03',\n",
       " 'http://api.nbp.pl/api/exchangerates/tables/a/2023-01-04',\n",
       " 'http://api.nbp.pl/api/exchangerates/tables/a/2023-01-05',\n",
       " 'http://api.nbp.pl/api/exchangerates/tables/a/2023-01-06',\n",
       " 'http://api.nbp.pl/api/exchangerates/tables/a/2023-01-07',\n",
       " 'http://api.nbp.pl/api/exchangerates/tables/a/2023-01-08',\n",
       " 'http://api.nbp.pl/api/exchangerates/tables/a/2023-01-09',\n",
       " 'http://api.nbp.pl/api/exchangerates/tables/a/2023-01-10',\n",
       " 'http://api.nbp.pl/api/exchangerates/tables/a/2023-01-11',\n",
       " 'http://api.nbp.pl/api/exchangerates/tables/a/2023-01-12',\n",
       " 'http://api.nbp.pl/api/exchangerates/tables/a/2023-01-13',\n",
       " 'http://api.nbp.pl/api/exchangerates/tables/a/2023-01-14',\n",
       " 'http://api.nbp.pl/api/exchangerates/tables/a/2023-01-15',\n",
       " 'http://api.nbp.pl/api/exchangerates/tables/a/2023-01-16',\n",
       " 'http://api.nbp.pl/api/exchangerates/tables/a/2023-01-17',\n",
       " 'http://api.nbp.pl/api/exchangerates/tables/a/2023-01-18',\n",
       " 'http://api.nbp.pl/api/exchangerates/tables/a/2023-01-19',\n",
       " 'http://api.nbp.pl/api/exchangerates/tables/a/2023-01-20',\n",
       " 'http://api.nbp.pl/api/exchangerates/tables/a/2023-01-21',\n",
       " 'http://api.nbp.pl/api/exchangerates/tables/a/2023-01-22',\n",
       " 'http://api.nbp.pl/api/exchangerates/tables/a/2023-01-23',\n",
       " 'http://api.nbp.pl/api/exchangerates/tables/a/2023-01-24',\n",
       " 'http://api.nbp.pl/api/exchangerates/tables/a/2023-01-25',\n",
       " 'http://api.nbp.pl/api/exchangerates/tables/a/2023-01-26',\n",
       " 'http://api.nbp.pl/api/exchangerates/tables/a/2023-01-27',\n",
       " 'http://api.nbp.pl/api/exchangerates/tables/a/2023-01-28',\n",
       " 'http://api.nbp.pl/api/exchangerates/tables/a/2023-01-29',\n",
       " 'http://api.nbp.pl/api/exchangerates/tables/a/2023-01-30',\n",
       " 'http://api.nbp.pl/api/exchangerates/tables/a/2023-01-31']"
      ]
     },
     "execution_count": 18,
     "metadata": {},
     "output_type": "execute_result"
    }
   ],
   "source": [
    "dates"
   ]
  },
  {
   "cell_type": "code",
   "execution_count": 7,
   "metadata": {},
   "outputs": [
    {
     "name": "stdout",
     "output_type": "stream",
     "text": [
      "2023-01-01\n",
      "2023-01-02\n",
      "2023-01-03\n",
      "2023-01-04\n",
      "2023-01-05\n",
      "2023-01-06\n",
      "2023-01-07\n",
      "2023-01-08\n",
      "2023-01-09\n",
      "2023-01-10\n",
      "2023-01-11\n",
      "2023-01-12\n",
      "2023-01-13\n",
      "2023-01-14\n",
      "2023-01-15\n",
      "2023-01-16\n",
      "2023-01-17\n",
      "2023-01-18\n",
      "2023-01-19\n",
      "2023-01-20\n",
      "2023-01-21\n",
      "2023-01-22\n",
      "2023-01-23\n",
      "2023-01-24\n",
      "2023-01-25\n",
      "2023-01-26\n",
      "2023-01-27\n",
      "2023-01-28\n",
      "2023-01-29\n",
      "2023-01-30\n",
      "2023-01-31\n",
      "2023-02-01\n",
      "2023-02-02\n",
      "2023-02-03\n",
      "2023-02-04\n",
      "2023-02-05\n",
      "2023-02-06\n",
      "2023-02-07\n",
      "2023-02-08\n",
      "2023-02-09\n",
      "2023-02-10\n",
      "2023-02-11\n",
      "2023-02-12\n",
      "2023-02-13\n",
      "2023-02-14\n",
      "2023-02-15\n",
      "2023-02-16\n",
      "2023-02-17\n",
      "2023-02-18\n",
      "2023-02-19\n",
      "2023-02-20\n",
      "2023-02-21\n",
      "2023-02-22\n",
      "2023-02-23\n",
      "2023-02-24\n",
      "2023-02-25\n",
      "2023-02-26\n",
      "2023-02-27\n",
      "2023-02-28\n",
      "2023-03-01\n"
     ]
    }
   ],
   "source": [
    "from datetime import date, timedelta\n",
    "\n",
    "start_date = date(2023, 1, 1) \n",
    "end_date = date(2023, 3, 1)    # perhaps date.now()\n",
    "\n",
    "delta = end_date - start_date   # returns timedelta\n",
    "\n",
    "for i in range(delta.days + 1):\n",
    "    day = start_date + timedelta(days=i)\n",
    "    print(day)"
   ]
  },
  {
   "cell_type": "code",
   "execution_count": 31,
   "metadata": {},
   "outputs": [
    {
     "data": {
      "text/plain": [
       "('USD', 4.3258)"
      ]
     },
     "execution_count": 31,
     "metadata": {},
     "output_type": "execute_result"
    }
   ],
   "source": [
    "text = \"\"\"[{\"table\":\"A\",\"no\":\"020/A/NBP/2023\",\"effectiveDate\":\"2023-01-30\",\"rates\":[{\"currency\":\"bat (Tajlandia)\",\"code\":\"THB\",\"mid\":0.1322},{\"currency\":\"dolar amerykański\",\"code\":\"USD\",\"mid\":4.3258},{\"currency\":\"dolar australijski\",\"code\":\"AUD\",\"mid\":3.0616},{\"currency\":\"dolar Hongkongu\",\"code\":\"HKD\",\"mid\":0.5520},{\"currency\":\"dolar kanadyjski\",\"code\":\"CAD\",\"mid\":3.2451},{\"currency\":\"dolar nowozelandzki\",\"code\":\"NZD\",\"mid\":2.8076},{\"currency\":\"dolar singapurski\",\"code\":\"SGD\",\"mid\":3.2961},{\"currency\":\"euro\",\"code\":\"EUR\",\"mid\":4.7160},{\"currency\":\"forint (Węgry)\",\"code\":\"HUF\",\"mid\":0.012031},{\"currency\":\"frank szwajcarski\",\"code\":\"CHF\",\"mid\":4.7054},{\"currency\":\"funt szterling\",\"code\":\"GBP\",\"mid\":5.3609},{\"currency\":\"hrywna (Ukraina)\",\"code\":\"UAH\",\"mid\":0.1258},{\"currency\":\"jen (Japonia)\",\"code\":\"JPY\",\"mid\":0.033284},{\"currency\":\"korona czeska\",\"code\":\"CZK\",\"mid\":0.1980},{\"currency\":\"korona duńska\",\"code\":\"DKK\",\"mid\":0.6341},{\"currency\":\"korona islandzka\",\"code\":\"ISK\",\"mid\":0.030723},{\"currency\":\"korona norweska\",\"code\":\"NOK\",\"mid\":0.4381},{\"currency\":\"korona szwedzka\",\"code\":\"SEK\",\"mid\":0.4196},{\"currency\":\"lej rumuński\",\"code\":\"RON\",\"mid\":0.9617},{\"currency\":\"lew (Bułgaria)\",\"code\":\"BGN\",\"mid\":2.4112},{\"currency\":\"lira turecka\",\"code\":\"TRY\",\"mid\":0.2300},{\"currency\":\"nowy izraelski szekel\",\"code\":\"ILS\",\"mid\":1.2465},{\"currency\":\"peso chilijskie\",\"code\":\"CLP\",\"mid\":0.005364},{\"currency\":\"peso filipińskie\",\"code\":\"PHP\",\"mid\":0.0793},{\"currency\":\"peso meksykańskie\",\"code\":\"MXN\",\"mid\":0.2304},{\"currency\":\"rand (Republika Południowej Afryki)\",\"code\":\"ZAR\",\"mid\":0.2500},{\"currency\":\"real (Brazylia)\",\"code\":\"BRL\",\"mid\":0.8466},{\"currency\":\"ringgit (Malezja)\",\"code\":\"MYR\",\"mid\":1.0193},{\"currency\":\"rupia indonezyjska\",\"code\":\"IDR\",\"mid\":0.00028897},{\"currency\":\"rupia indyjska\",\"code\":\"INR\",\"mid\":0.053081},{\"currency\":\"won południowokoreański\",\"code\":\"KRW\",\"mid\":0.003522},{\"currency\":\"yuan renminbi (Chiny)\",\"code\":\"CNY\",\"mid\":0.6404},{\"currency\":\"SDR (MFW)\",\"code\":\"XDR\",\"mid\":5.8646}]}]\"\"\"\n",
    "\n",
    "import json\n",
    "\n",
    "json_table = json.loads(text)\n",
    "\n",
    "[(entry['code'], float(entry['mid'])) for entry in json_table[0][\"rates\"] if entry['code'] == 'USD'][0]\n"
   ]
  },
  {
   "cell_type": "code",
   "execution_count": 30,
   "metadata": {},
   "outputs": [
    {
     "data": {
      "text/plain": [
       "'2023-01-30'"
      ]
     },
     "execution_count": 30,
     "metadata": {},
     "output_type": "execute_result"
    }
   ],
   "source": [
    "json_table[0]['effectiveDate']"
   ]
  },
  {
   "cell_type": "code",
   "execution_count": null,
   "metadata": {},
   "outputs": [],
   "source": []
  }
 ],
 "metadata": {
  "kernelspec": {
   "display_name": "jb",
   "language": "python",
   "name": "python3"
  },
  "language_info": {
   "codemirror_mode": {
    "name": "ipython",
    "version": 3
   },
   "file_extension": ".py",
   "mimetype": "text/x-python",
   "name": "python",
   "nbconvert_exporter": "python",
   "pygments_lexer": "ipython3",
   "version": "3.8.8"
  },
  "orig_nbformat": 4,
  "vscode": {
   "interpreter": {
    "hash": "86e20cd844b6f12dd749ebc5672e79c79b299ebe1b58aa58ec7b7aa2586cbaf4"
   }
  }
 },
 "nbformat": 4,
 "nbformat_minor": 2
}
