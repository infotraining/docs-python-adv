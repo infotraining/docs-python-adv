{
 "cells": [
  {
   "attachments": {},
   "cell_type": "markdown",
   "metadata": {},
   "source": [
    "# Structural Pattern Matching"
   ]
  },
  {
   "attachments": {},
   "cell_type": "markdown",
   "metadata": {
    "vscode": {
     "languageId": "python"
    }
   },
   "source": [
    "Python 3.10 wprowadza nową instrukcję `match` inspirowaną jezykami funkcyjnymi (Scala, Erlang).\n",
    "\n",
    "Instrukcja `match` porównuje wartość (**subject**) do kilku różnych wzorców (**patterns**) wymienionych po etykietach `case`, aż znalezione zostanie dopasowanie. Każdy wzorzec (**pattern**) opisuje typ i strukturę akceptowanych wartości. Wzorzec może zawierać też zmienne, do których są wiązane pasujące wartości (**binding**).\n",
    "\n",
    "Składnia:\n",
    "\n",
    "```python\n",
    "match <subject_expression>:\n",
    "    case <pattern_1> [<if guard>]:\n",
    "        <block to execute if pattern_1 matches>\n",
    "    case <pattern_n> [<if guard>]:\n",
    "        <block to execute if pattern_n matches>\n",
    "```"
   ]
  },
  {
   "attachments": {},
   "cell_type": "markdown",
   "metadata": {},
   "source": [
    "## Wzorzec - Pattern\n",
    "\n",
    "Wzorzec (**pattern**) jest nowym elementem składni języka, który wygląda jak część wyrażenia służącego do konstrukcji obiektu, np:\n",
    "\n",
    "* `[first, second, *rest]`\n",
    "* `Point2D(x, 0)`\n",
    "* `{id: 665, name: \"John}`\n",
    "* `665`"
   ]
  },
  {
   "attachments": {},
   "cell_type": "markdown",
   "metadata": {},
   "source": [
    "Podobieństwo ze składnią służącą do konstrukcji jest zamierzone, ale dla wzorca oznacza proces odwrotny, nazywany *dekonstrukcją*. Dekonstrukcja umożliwia ekstrakcję elementów obiektu na podstawie wzorca. \n",
    "\n"
   ]
  },
  {
   "attachments": {},
   "cell_type": "markdown",
   "metadata": {},
   "source": [
    "### Proces dopasowania wzorca"
   ]
  },
  {
   "attachments": {},
   "cell_type": "markdown",
   "metadata": {},
   "source": [
    "Instrukcja `match` stara się dopasować obiekt (*subject*) do każdego wzorca podanego po etykiecie `case`. Dla pierwszego pasującego wzorca:\n",
    "* wiązane są wartości do zmiennych występujące w wzorcu\n",
    "* wykonywany jest odpowiedający etykiecie blok instrukcji"
   ]
  },
  {
   "cell_type": "code",
   "execution_count": 37,
   "metadata": {},
   "outputs": [],
   "source": [
    "from collections import namedtuple\n",
    "\n",
    "Point2D = namedtuple('Point2D', 'x y')\n",
    "Point3D = namedtuple('Point3D', 'x y z')\n",
    "\n",
    "def make_point_3d(pt):\n",
    "    match pt:\n",
    "        case (x, y):\n",
    "            return Point3D(x, y, 0)\n",
    "        case (x, y, z):\n",
    "            return Point3D(x, y, z)\n",
    "        case Point2D(x, y):\n",
    "            return Point3D(x, y, 0)\n",
    "        case Point3D(_, _, _):\n",
    "            return pt\n",
    "        case _:\n",
    "            raise TypeError('a type cannot be converted to Point3D')"
   ]
  },
  {
   "cell_type": "code",
   "execution_count": 38,
   "metadata": {},
   "outputs": [
    {
     "data": {
      "text/plain": [
       "Point3D(x=1, y=2, z=3)"
      ]
     },
     "execution_count": 38,
     "metadata": {},
     "output_type": "execute_result"
    }
   ],
   "source": [
    "make_point_3d((1, 2, 3))"
   ]
  },
  {
   "cell_type": "code",
   "execution_count": 39,
   "metadata": {},
   "outputs": [
    {
     "data": {
      "text/plain": [
       "Point3D(x=99, y=45, z=0)"
      ]
     },
     "execution_count": 39,
     "metadata": {},
     "output_type": "execute_result"
    }
   ],
   "source": [
    "make_point_3d(Point2D(99, 45))"
   ]
  },
  {
   "attachments": {},
   "cell_type": "markdown",
   "metadata": {},
   "source": [
    "### Rodzaje wzorców\n",
    "\n",
    "#### Literały"
   ]
  },
  {
   "cell_type": "code",
   "execution_count": 40,
   "metadata": {},
   "outputs": [],
   "source": [
    "number = 42\n",
    "\n",
    "match number:\n",
    "    case 0:\n",
    "        print(\"Nothing\")\n",
    "    case 1:\n",
    "        print(\"Just one\")\n",
    "    case 2:\n",
    "        print(\"A couple\")\n",
    "    case -1:\n",
    "        print(\"One less than nothing\")\n",
    "    case 1-1j:\n",
    "        print(\"Good luck with that...\")"
   ]
  },
  {
   "attachments": {},
   "cell_type": "markdown",
   "metadata": {},
   "source": [
    "#### Wzorce przechwyceń\n",
    "\n",
    "Wprowadzenie nazwy zmiennej we wzorcu pozwala przypisać tej zmiennej odpowiednią wartość (w przypadku dopasowania):"
   ]
  },
  {
   "cell_type": "code",
   "execution_count": 41,
   "metadata": {},
   "outputs": [
    {
     "name": "stdout",
     "output_type": "stream",
     "text": [
      "Hello John\n"
     ]
    }
   ],
   "source": [
    "greeting = \"John\"\n",
    "\n",
    "match greeting:\n",
    "    case \"\":\n",
    "        print(\"Hello stranger!\")\n",
    "    case name:\n",
    "        print(f\"Hello {name}\")"
   ]
  },
  {
   "attachments": {},
   "cell_type": "markdown",
   "metadata": {},
   "source": [
    "W danym wzorcu określona nazwa może wystąpić tylko raz!"
   ]
  },
  {
   "cell_type": "code",
   "execution_count": 42,
   "metadata": {},
   "outputs": [
    {
     "ename": "SyntaxError",
     "evalue": "multiple assignments to name 'x' in pattern (3379641753.py, line 4)",
     "output_type": "error",
     "traceback": [
      "\u001b[0;36m  Cell \u001b[0;32mIn[42], line 4\u001b[0;36m\u001b[0m\n\u001b[0;31m    case [x, x]:\u001b[0m\n\u001b[0m             ^\u001b[0m\n\u001b[0;31mSyntaxError\u001b[0m\u001b[0;31m:\u001b[0m multiple assignments to name 'x' in pattern\n"
     ]
    }
   ],
   "source": [
    "data = [1, 4]\n",
    "\n",
    "match data:\n",
    "    case [x, x]:\n",
    "        print(x)"
   ]
  },
  {
   "attachments": {},
   "cell_type": "markdown",
   "metadata": {},
   "source": [
    "#### Symbol zastępczy\n",
    "\n",
    "Symbol `_` jest specjalnym znakiem oznaczającym wzorzec, który zawsze pasuje ale nie powoduje wiązania z wartością:"
   ]
  },
  {
   "cell_type": "code",
   "execution_count": null,
   "metadata": {},
   "outputs": [
    {
     "name": "stdout",
     "output_type": "stream",
     "text": [
      "A list with two elements\n"
     ]
    }
   ],
   "source": [
    "data = [42, 665]\n",
    "\n",
    "match data:\n",
    "    case [_]:\n",
    "        print(\"A list with just one element\")\n",
    "    case [_, _]:\n",
    "        print(\"A list with two elements\")"
   ]
  },
  {
   "attachments": {},
   "cell_type": "markdown",
   "metadata": {},
   "source": [
    "#### Stałe i wyliczenia"
   ]
  },
  {
   "cell_type": "code",
   "execution_count": null,
   "metadata": {},
   "outputs": [
    {
     "name": "stdout",
     "output_type": "stream",
     "text": [
      "I have a Stratocaster guitar\n"
     ]
    }
   ],
   "source": [
    "from enum import Enum\n",
    "\n",
    "class Guitar(str, Enum):\n",
    "    STRATOCASTER = \"Stratocaster\"\n",
    "    TELECASTER = \"Telecaster\"\n",
    "    LES_PAUL = \"Les-Paul\"\n",
    "\n",
    "my_guitar = Guitar.STRATOCASTER\n",
    "\n",
    "match my_guitar:\n",
    "    case Guitar.LES_PAUL: # compares my_guitar == Guitar.LES_PAUL\n",
    "        print(\"I have guitar with humbuckers\")\n",
    "    case fender:\n",
    "        print(f\"I have a {fender} guitar\")"
   ]
  },
  {
   "attachments": {},
   "cell_type": "markdown",
   "metadata": {},
   "source": [
    "#### Wzorce sekwencji\n",
    "\n",
    "Wzorce sekwencji mają tą samą semantykę co rozpakowanie przypisania (działają zarówno dla krotek jak i list)."
   ]
  },
  {
   "cell_type": "code",
   "execution_count": null,
   "metadata": {},
   "outputs": [
    {
     "name": "stdout",
     "output_type": "stream",
     "text": [
      "Got 1 , 2 , [3 , [4, 5]]\n"
     ]
    }
   ],
   "source": [
    "collection = [1, 2, [3, 4, 5]]\n",
    "\n",
    "match collection:\n",
    "    case 1, x, [y, *others]:\n",
    "        print(f\"Got 1 , {x} , [{y} , {others}]\")"
   ]
  },
  {
   "attachments": {},
   "cell_type": "markdown",
   "metadata": {},
   "source": [
    "Symbol zastępczy `_` może być użyty w połączeniu z `*` w celu określenia zmiennej długości:\n",
    "\n",
    "* `[*_]` - pasuje do sekwencji o dowolnej długości\n",
    "* `(_, _, *_)` - pasuje do sekwencji o długości równej dwa lub większej\n",
    "* `['a', *_, 'z']` - pasuje do sekwencji dowolnej długości zaczynającej się od `'a'` i kończącej się na `'z'`"
   ]
  },
  {
   "attachments": {},
   "cell_type": "markdown",
   "metadata": {},
   "source": [
    "#### Wzorce słownikowe"
   ]
  },
  {
   "attachments": {},
   "cell_type": "markdown",
   "metadata": {},
   "source": [
    "Dopasowywana wartość (**subject**) musi być instancją typu `collections.abc.Mapping`. Dodatkowe klucze są pomijane nawet gdy we wzorcu nie został użyty symbol `**rest`."
   ]
  },
  {
   "cell_type": "code",
   "execution_count": null,
   "metadata": {},
   "outputs": [
    {
     "name": "stdout",
     "output_type": "stream",
     "text": [
      "Connecting to http://localhost:8080\n"
     ]
    }
   ],
   "source": [
    "config = { 'url': \"http://localhost\", 'port': 8080, 'timeout': 60 }\n",
    "\n",
    "match config:\n",
    "    case {'url': url, 'port': port}:\n",
    "        print(f\"Connecting to {url}:{port}\")\n",
    "    case {}:\n",
    "        print(\"Connection not configured...\")"
   ]
  },
  {
   "attachments": {},
   "cell_type": "markdown",
   "metadata": {},
   "source": [
    "#### Wzorce klas\n",
    "\n",
    "Umożliwiają dopasowanie na podstawie typu (odpowiednik `isinstance()`) i destrukturyzację obiektów. Dostępne są dwie opcje dopasowań:\n",
    "* z wykorzystaniem pozycji np. `Point(1, 2)` - dla danej klasy wymagany jest atrybut `__match_args__`\n",
    "* z wykorzystaniem nazw np. `Point(x=1, y=2)`"
   ]
  },
  {
   "cell_type": "code",
   "execution_count": null,
   "metadata": {},
   "outputs": [
    {
     "name": "stdout",
     "output_type": "stream",
     "text": [
      "Drawing rectangle with width=90 and height=665\n"
     ]
    }
   ],
   "source": [
    "from dataclasses import dataclass\n",
    "from typing import Tuple\n",
    "\n",
    "@dataclass\n",
    "class Shape:\n",
    "    coord: Tuple[int, int]\n",
    "\n",
    "@dataclass\n",
    "class Circle(Shape):\n",
    "    radius: int\n",
    "    \n",
    "class Rectangle(Shape):\n",
    "    __match_args__ = ('coord', 'width', 'height') # required for positional pattern matching\n",
    "\n",
    "    def __init__(self, coord, width, height):\n",
    "        super().__init__(coord)\n",
    "        self.height = height\n",
    "        self.width  = width\n",
    "\n",
    "shp = Rectangle((0, 0), 90, 665)\n",
    "\n",
    "match shp:\n",
    "    case Circle(coord, r):\n",
    "        print(f\"Drawing circle with radius={r} at {coord}\")\n",
    "    case Rectangle(_, w, h):\n",
    "        print(f\"Drawing rectangle with width={w} and height={h}\")\n",
    "    case Shape(_):\n",
    "        print(f\"Drawing a shape!\")"
   ]
  },
  {
   "attachments": {},
   "cell_type": "markdown",
   "metadata": {},
   "source": [
    "#### Łączenie wielu wzorców (wzorce z OR)\n",
    "\n",
    "Alternatywne wzorce mogą być połączone w jeden za pomocą `|`. Takie połączenie oznacza, że cały wzorzec zostaje dopasowany, jeśli przynajmniej jedna z alternatyw pasuje.\n",
    "\n",
    "Alternatywne wzorce są dopasowywane od lewej do prawej i mają właściwość *short-circuit*."
   ]
  },
  {
   "cell_type": "code",
   "execution_count": 43,
   "metadata": {},
   "outputs": [
    {
     "name": "stdout",
     "output_type": "stream",
     "text": [
      "something string-like\n"
     ]
    }
   ],
   "source": [
    "something = \"something\"\n",
    "\n",
    "match something:\n",
    "    case 0 | 1 | 2:\n",
    "        print(\"small number\")\n",
    "    case [] | [_]:\n",
    "        print(\"a short sequence\")\n",
    "    case str() | bytes():\n",
    "        print(\"something string-like\")\n",
    "    case _:\n",
    "        print(\"something else\")"
   ]
  },
  {
   "attachments": {},
   "cell_type": "markdown",
   "metadata": {},
   "source": [
    "#### Wzorce z warunkiem"
   ]
  },
  {
   "attachments": {},
   "cell_type": "markdown",
   "metadata": {},
   "source": [
    "Każdy z wzorców umieszczonych na początku instrukcji `match` może zawierać warunek (**guard**)  w postaci wyrażenia `if`."
   ]
  },
  {
   "cell_type": "code",
   "execution_count": 47,
   "metadata": {},
   "outputs": [
    {
     "name": "stdout",
     "output_type": "stream",
     "text": [
      "Pixel with x coordinate the same as y\n"
     ]
    }
   ],
   "source": [
    "MAX_SIZE = 100\n",
    "\n",
    "coord = (88, 88)\n",
    "\n",
    "match coord:\n",
    "    case x, y if x > MAX_SIZE and y > MAX_SIZE:\n",
    "        print(\"Both coordinates out of bounds\")\n",
    "    case x, y if x > MAX_SIZE or y > MAX_SIZE:\n",
    "        print(\"one coordinate out of bounds\")\n",
    "    case x, y if x == y:\n",
    "        print(\"Pixel with x coordinate the same as y\")\n",
    "    case _:\n",
    "        print(f\"Pixel at {coord}\")"
   ]
  }
 ],
 "metadata": {
  "kernelspec": {
   "display_name": "jb",
   "language": "python",
   "name": "python3"
  },
  "language_info": {
   "codemirror_mode": {
    "name": "ipython",
    "version": 3
   },
   "file_extension": ".py",
   "mimetype": "text/x-python",
   "name": "python",
   "nbconvert_exporter": "python",
   "pygments_lexer": "ipython3",
   "version": "3.10.6"
  },
  "orig_nbformat": 4
 },
 "nbformat": 4,
 "nbformat_minor": 2
}
