{
 "cells": [
  {
   "attachments": {},
   "cell_type": "markdown",
   "metadata": {},
   "source": [
    "# Metaklasy\n",
    "\n",
    "Metaklasą nazywamy obiekt (najczęściej klasę) generujący inne klasy.\n",
    "\n",
    "*\"Metaclasses are deeper magic than 99% of users should ever worry about.\n",
    "If you wonder whether you need them, you don't\"*\n",
    "\n",
    "*-- Python Guru Tim Peters*\n",
    "\n",
    "## Klasy jako obiekty\n",
    "\n",
    "Podobnie jak w przypadku funkcji, klasy są obiektami.\n",
    "Służą do tworzenia nowych obiektów (instancji)."
   ]
  },
  {
   "cell_type": "code",
   "execution_count": 145,
   "metadata": {},
   "outputs": [],
   "source": [
    "class MyClass:\n",
    "    pass"
   ]
  },
  {
   "attachments": {},
   "cell_type": "markdown",
   "metadata": {},
   "source": [
    "Nowy obiekt jest tworzony przy pomocy operatora ``()``. Jego typ to nazwa klasy."
   ]
  },
  {
   "cell_type": "code",
   "execution_count": 146,
   "metadata": {},
   "outputs": [
    {
     "data": {
      "text/plain": [
       "__main__.MyClass"
      ]
     },
     "execution_count": 146,
     "metadata": {},
     "output_type": "execute_result"
    }
   ],
   "source": [
    "mc = MyClass()\n",
    "type(mc)"
   ]
  },
  {
   "attachments": {},
   "cell_type": "markdown",
   "metadata": {},
   "source": [
    "Jakiego typu jest obiekt klasy?"
   ]
  },
  {
   "cell_type": "code",
   "execution_count": 147,
   "metadata": {},
   "outputs": [
    {
     "data": {
      "text/plain": [
       "type"
      ]
     },
     "execution_count": 147,
     "metadata": {},
     "output_type": "execute_result"
    }
   ],
   "source": [
    "type(MyClass)"
   ]
  },
  {
   "attachments": {},
   "cell_type": "markdown",
   "metadata": {},
   "source": [
    "## Dynamiczne tworzenie klas\n",
    "\n",
    "Skoro są obiekty klas są obiektami typu `type`, to możemy je też dynamicznie tworzyć."
   ]
  },
  {
   "attachments": {},
   "cell_type": "markdown",
   "metadata": {},
   "source": [
    "Funkcja `type` działa też jak fabryka klas, która przyjmuje trzy argumenty:\n",
    "* nazwa klasy\n",
    "* krotka z klasami bazowymi\n",
    "* słownik zawierający nazwy atrybutów i ich wartości\n",
    "\n",
    "W rezultacie klasę utworzoną w klasyczny sposób:"
   ]
  },
  {
   "cell_type": "code",
   "execution_count": 1,
   "metadata": {},
   "outputs": [],
   "source": [
    "class Shape:\n",
    "    def draw(self):\n",
    "        pass\n",
    "\n",
    "class Rectangle(Shape):\n",
    "    _id = 'RECTANGLE'\n",
    "\n",
    "    def __init__(self, width, height):\n",
    "        self.width = width\n",
    "        self.height = height        \n",
    "\n",
    "    def draw(self):\n",
    "        print(f'Drawing {Rectangle._id}({self.width}, {self.height})')"
   ]
  },
  {
   "attachments": {},
   "cell_type": "markdown",
   "metadata": {},
   "source": [
    "możemy utworzyć też dynamicznie:"
   ]
  },
  {
   "cell_type": "code",
   "execution_count": 2,
   "metadata": {},
   "outputs": [],
   "source": [
    "def rect_init(self, width, height):\n",
    "        self.width = width\n",
    "        self.height = height  \n",
    "\n",
    "RectangleT = type('RectangleT', (Shape, ), {\n",
    "        '_id': 'RECTANGLE_T',\n",
    "        '__init__': rect_init,\n",
    "        'draw' : lambda self: print(f'Drawing {RectangleT._id}({self.width}, {self.height})')\n",
    "})"
   ]
  },
  {
   "cell_type": "code",
   "execution_count": 3,
   "metadata": {},
   "outputs": [
    {
     "data": {
      "text/plain": [
       "'RectangleT'"
      ]
     },
     "execution_count": 3,
     "metadata": {},
     "output_type": "execute_result"
    }
   ],
   "source": [
    "RectangleT.__name__"
   ]
  },
  {
   "cell_type": "code",
   "execution_count": 4,
   "metadata": {},
   "outputs": [
    {
     "data": {
      "text/plain": [
       "type"
      ]
     },
     "execution_count": 4,
     "metadata": {},
     "output_type": "execute_result"
    }
   ],
   "source": [
    "type(RectangleT)"
   ]
  },
  {
   "cell_type": "code",
   "execution_count": 5,
   "metadata": {},
   "outputs": [],
   "source": [
    "rect = RectangleT(10, 20)"
   ]
  },
  {
   "cell_type": "code",
   "execution_count": 6,
   "metadata": {},
   "outputs": [
    {
     "name": "stdout",
     "output_type": "stream",
     "text": [
      "Drawing RECTANGLE_T(10, 20)\n"
     ]
    }
   ],
   "source": [
    "rect.draw()"
   ]
  },
  {
   "attachments": {},
   "cell_type": "markdown",
   "metadata": {},
   "source": [
    "## Metaklasy\n",
    "\n",
    "Typ `type` jest więc wbudowaną w Pythona metaklasą. Jednakże istnieje możliwość stworzenia własnych metaklas.\n",
    "\n",
    "Pod Pythonem 3, składnia jest następująca:\n",
    "\n",
    "```python\n",
    "class MyClass(object, metaclass=class_creator):\n",
    "    ...\n",
    "```\n",
    "\n",
    "gdzie ``class_creator`` to specjalny obiekt, którego należy użyć zamiast `type` do utworzenia obiektu klasy.\n",
    "\n",
    "### Funkcja jako metaklasa\n",
    "\n",
    "W szczególności, metaklasą może być funkcja.\n",
    "Poniżej przedstawiono metaklasę, która konwertuje nazwy wszystkich atrybutów tak, aby używały wielkich liter."
   ]
  },
  {
   "cell_type": "code",
   "execution_count": 8,
   "metadata": {},
   "outputs": [],
   "source": [
    "def upper_attr(cls, parents, attrs):\n",
    "    _attrs = ((name.upper(), value)\n",
    "                for name, value in attrs.items())\n",
    "    attrs_upper = dict(_attrs)\n",
    "    return type(cls, parents, attrs_upper)\n",
    "\n",
    "\n",
    "class Foo(metaclass=upper_attr):\n",
    "    bar = 'foo'"
   ]
  },
  {
   "cell_type": "code",
   "execution_count": 9,
   "metadata": {},
   "outputs": [
    {
     "data": {
      "text/plain": [
       "'foo'"
      ]
     },
     "execution_count": 9,
     "metadata": {},
     "output_type": "execute_result"
    }
   ],
   "source": [
    "foo = Foo()\n",
    "foo.BAR"
   ]
  },
  {
   "attachments": {},
   "cell_type": "markdown",
   "metadata": {},
   "source": [
    "### Klasa metaklasy\n",
    "\n",
    "Zazwyczaj jednak metaklasa jest klasą dziedziczącą po `type`."
   ]
  },
  {
   "cell_type": "code",
   "execution_count": 163,
   "metadata": {},
   "outputs": [],
   "source": [
    "class UpperAttr(type):\n",
    "    def __new__(cls, name, parents, attrs):\n",
    "        _attrs = ((name.upper(), value)\n",
    "                  for name, value in attrs.items())\n",
    "        attrs_upper = dict(_attrs)\n",
    "        return type(name, parents, attrs_upper)\n",
    "\n",
    "class Boo(object, metaclass=UpperAttr):\n",
    "    bar = 'boo'"
   ]
  },
  {
   "cell_type": "code",
   "execution_count": 164,
   "metadata": {},
   "outputs": [
    {
     "data": {
      "text/plain": [
       "'foo'"
      ]
     },
     "execution_count": 164,
     "metadata": {},
     "output_type": "execute_result"
    }
   ],
   "source": [
    "foo = Foo()\n",
    "foo.BAR"
   ]
  },
  {
   "attachments": {},
   "cell_type": "markdown",
   "metadata": {},
   "source": [
    "### Metody specjalne metaklasy"
   ]
  },
  {
   "cell_type": "code",
   "execution_count": 80,
   "metadata": {},
   "outputs": [],
   "source": [
    "from typing import Any, Dict, Mapping, Tuple, Type\n",
    "\n",
    "class Metaclass(type):\n",
    "    @classmethod \n",
    "    def __prepare__(mcs, name: str, bases: Tuple[Type, ...], **kwargs: Any) -> Mapping[str, Any]: \n",
    "        print(f'Metaclass.__prepare__(mcs={mcs}, name={name}, bases={bases!r}, kwargs={kwargs!r})')\n",
    "        return super().__prepare__(mcs, name, bases, **kwargs)\n",
    "    \n",
    "    def __new__(mcs, name: str, bases: Tuple[Type, ...], namespace: Dict[str, Any], **kwargs: Any):\n",
    "        print(f'Metaclass.__new__(mcs={mcs}, name={name}, bases={bases!r}, namespace={namespace!r}, kwargs={kwargs!r})')\n",
    "        return super().__new__(mcs, name, bases, namespace)\n",
    "    \n",
    "    def __init__(cls, name: str, bases: Tuple[Type, ...], namespace: Dict[str, Any], **kwargs: Any) -> None: \n",
    "        print(f'{cls}.__init__(name={name}, bases={bases!r}, namespace={namespace!r}, kwargs={kwargs!r})')\n",
    "        super().__init__(name, bases, namespace, **kwargs) \n",
    "\n",
    "    def __call__(cls, *args: Any, **kwargs: Any) -> Any: \n",
    "        print(f'{cls}.__call__(args={args!r}, kwargs={kwargs!r})')\n",
    "        return super().__call__(*args, **kwargs)"
   ]
  },
  {
   "cell_type": "code",
   "execution_count": 77,
   "metadata": {},
   "outputs": [
    {
     "name": "stdout",
     "output_type": "stream",
     "text": [
      "Metaclass.__prepare__(mcs=<class '__main__.Metaclass'>, name=SuperUser, bases=(<class '__main__.User'>,), kwargs={'value': 42})\n",
      "Metaclass.__new__(mcs=<class '__main__.Metaclass'>, name=SuperUser, bases=(<class '__main__.User'>,), namespace={'__module__': '__main__', '__qualname__': 'SuperUser', '__annotations__': {'id': <class 'int'>}, 'id': 665, '__init__': <function SuperUser.__init__ at 0x7f2c732fc5e0>, 'set_password': <function SuperUser.set_password at 0x7f2c732fc280>}, kwargs={'value': 42})\n",
      "<class '__main__.SuperUser'>.__init__(name=SuperUser, bases=(<class '__main__.User'>,), namespace={'__module__': '__main__', '__qualname__': 'SuperUser', '__annotations__': {'id': <class 'int'>}, 'id': 665, '__init__': <function SuperUser.__init__ at 0x7f2c732fc5e0>, 'set_password': <function SuperUser.set_password at 0x7f2c732fc280>}, kwargs={'value': 42})\n"
     ]
    }
   ],
   "source": [
    "class User:\n",
    "    pass\n",
    "\n",
    "\n",
    "class SuperUser(User, metaclass=Metaclass, value = 42):\n",
    "    id: int = 665\n",
    "    \n",
    "    def __init__(self, id: int, name: str):\n",
    "        print(f'{self}.__init__(id={id}, name={name})')\n",
    "        self.id = id\n",
    "        self.name = name\n",
    "\n",
    "    def set_password(self, new_password: str):\n",
    "        pass"
   ]
  },
  {
   "cell_type": "code",
   "execution_count": 78,
   "metadata": {},
   "outputs": [
    {
     "name": "stdout",
     "output_type": "stream",
     "text": [
      "<class '__main__.SuperUser'>.__call__(args=(667, 'admin'), kwargs={})\n",
      "<__main__.SuperUser object at 0x7f2c732db490>.__init__(id=667, name=admin)\n"
     ]
    }
   ],
   "source": [
    "user = SuperUser(667, \"admin\")"
   ]
  },
  {
   "attachments": {},
   "cell_type": "markdown",
   "metadata": {},
   "source": [
    "#### Metoda specjalna `__prepare__`\n",
    "\n",
    "Zadaniem tej metody jest zwrócenie słownika, który zostanie wykorzystany do zainicjowania obiektu `__dict__` w tworzonym obiekcie typu (klasy). Domyślna implementacja zwraca pusty słownik (typu `dict`), ale można to zmienić (np. zwrócić wstępnie wypełnioną instancję słownika).\n",
    "\n",
    "#### Metoda specjalna `__new__`\n",
    "\n",
    "Jest odpowiedzialna za utworzenie obiektu klasy.\n",
    "Dostaje jako argument wywołania obiekt **metaklasy**, nazwę tworzonego typu (klasy), krotkę klas bazowych i wypełniony słownik z atrybutami. Możliwa jest modyfikacja tych parametrów przed przekazaniem ich (najczęściej) w wywołaniu `__new__()` z klasy bazowej, czyli `type.__new__()`\n",
    "\n",
    "#### Metoda specjalna `__init__`\n",
    "\n",
    "Dostaje jako argument wywołania obiekt utworzonej już klasy, z wypełnionym słownikiem atrybutów.\n",
    "\n",
    "#### Metoda specjalna `__call__`\n",
    "\n",
    "Metoda wywoływana, gdy tworzona jest instancja docelowej klasy (utworzonej za pomocą danej metaklasy).\n",
    "Domyślna implementacja z `type` wywołuje operacje|: \n",
    "\n",
    "* `__new__(cls, *args, **kwargs)` - utworzenie instancji klasy\n",
    "* `__init__(self, *args, **kwargs)` - inicjalizacja instancji klasy\n",
    "\n",
    "Ta implementacja może zostać zmieniona w celu lepszej kontroli sposobu tworzenia instancji klasy. "
   ]
  },
  {
   "cell_type": "code",
   "execution_count": 166,
   "metadata": {},
   "outputs": [],
   "source": [
    "class UpperAttrChild(type):\n",
    "    def __new__(cls, name, parents, attrs):\n",
    "        _attrs = ((name.upper(), value) for name, value in attrs.items())\n",
    "        attrs_upper = dict(_attrs)\n",
    "        return super(UpperAttrChild, cls).__new__(cls, name, parents, attrs_upper)"
   ]
  },
  {
   "attachments": {},
   "cell_type": "markdown",
   "metadata": {},
   "source": [
    "## Zastosowanie metaklas\n",
    "\n",
    "W praktyce, metaklasy są stosowane tam, gdzie API klasy musi być tworzone dynamicznie (np. ORM w Django) oraz do implementacji niektórych wzorców projektowych.\n",
    "\n",
    "### Singleton i metaklasa"
   ]
  },
  {
   "cell_type": "code",
   "execution_count": 81,
   "metadata": {},
   "outputs": [],
   "source": [
    "class Singleton(type):\n",
    "    _instances = {}\n",
    "    \n",
    "    def __call__(cls, *args, **kwargs):\n",
    "        if cls not in cls._instances:\n",
    "            cls._instances[cls] = super(Singleton, cls).__call__(*args, **kwargs)\n",
    "        return cls._instances[cls]\n",
    "    \n",
    "\n",
    "class AsSingleton(metaclass=Singleton):\n",
    "    pass\n",
    "\n",
    "\n",
    "class Logger(AsSingleton):\n",
    "    def __init__(self):\n",
    "        print(f'Executing Logger.__init__({self})')\n",
    "    \n",
    "    def log(self, msg: str) -> None:\n",
    "        print(f\">>{msg}\")"
   ]
  },
  {
   "cell_type": "code",
   "execution_count": 85,
   "metadata": {},
   "outputs": [
    {
     "data": {
      "text/plain": [
       "True"
      ]
     },
     "execution_count": 85,
     "metadata": {},
     "output_type": "execute_result"
    }
   ],
   "source": [
    "logger1 = Logger()\n",
    "logger2 = Logger()\n",
    "\n",
    "logger1 is logger2"
   ]
  },
  {
   "attachments": {},
   "cell_type": "markdown",
   "metadata": {},
   "source": [
    "### Modyfikacja nazw atrybutów w klasie"
   ]
  },
  {
   "cell_type": "code",
   "execution_count": 88,
   "metadata": {},
   "outputs": [],
   "source": [
    "from typing import Any, Mapping\n",
    "import inflection\n",
    "\n",
    "class CaseInterpolationDict(dict):\n",
    "    def __setitem__(self, key, value):\n",
    "        super().__setitem__(key, value)\n",
    "        super().__setitem__(inflection.underscore(key), value)\n",
    "\n",
    "class CaseInterpolatedMeta(type):\n",
    "    @classmethod\n",
    "    def __prepare__(mcs, __name: str, __bases: Tuple[type, ...], **kwds: Any) -> Mapping[str, object]:\n",
    "        return CaseInterpolationDict()\n",
    "    \n",
    "\n",
    "class MyUser(metaclass=CaseInterpolatedMeta):\n",
    "    pass\n",
    "\n",
    "class User(MyUser):    \n",
    "    def __init__(self, firstName: str, lastName: str):\n",
    "        self.firstName = firstName\n",
    "        self.lastName = lastName\n",
    "\n",
    "    def getDisplayName(self):\n",
    "        return f\"{self.firstName} {self.lastName}\"\n",
    "    \n",
    "    def greetUser(self):\n",
    "        return f\"Hello {self.getDisplayName()}!\""
   ]
  },
  {
   "cell_type": "code",
   "execution_count": 89,
   "metadata": {},
   "outputs": [
    {
     "data": {
      "text/plain": [
       "mappingproxy({'__module__': '__main__',\n",
       "              '__init__': <function __main__.User.__init__(self, firstName: str, lastName: str)>,\n",
       "              'getDisplayName': <function __main__.User.getDisplayName(self)>,\n",
       "              'get_display_name': <function __main__.User.getDisplayName(self)>,\n",
       "              'greetUser': <function __main__.User.greetUser(self)>,\n",
       "              'greet_user': <function __main__.User.greetUser(self)>,\n",
       "              '__doc__': None})"
      ]
     },
     "execution_count": 89,
     "metadata": {},
     "output_type": "execute_result"
    }
   ],
   "source": [
    "User.__dict__"
   ]
  },
  {
   "cell_type": "code",
   "execution_count": 90,
   "metadata": {},
   "outputs": [
    {
     "data": {
      "text/plain": [
       "'John Doe'"
      ]
     },
     "execution_count": 90,
     "metadata": {},
     "output_type": "execute_result"
    }
   ],
   "source": [
    "user = User(\"John\", \"Doe\")\n",
    "user.getDisplayName()\n",
    "user.get_display_name()"
   ]
  }
 ],
 "metadata": {
  "kernelspec": {
   "display_name": "jb",
   "language": "python",
   "name": "python3"
  },
  "language_info": {
   "codemirror_mode": {
    "name": "ipython",
    "version": 3
   },
   "file_extension": ".py",
   "mimetype": "text/x-python",
   "name": "python",
   "nbconvert_exporter": "python",
   "pygments_lexer": "ipython3",
   "version": "3.8.8"
  },
  "orig_nbformat": 4
 },
 "nbformat": 4,
 "nbformat_minor": 2
}
