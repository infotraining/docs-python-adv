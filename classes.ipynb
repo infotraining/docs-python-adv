{
 "cells": [
  {
   "attachments": {},
   "cell_type": "markdown",
   "metadata": {},
   "source": [
    "# Klasy i obiekty - elementy zaawansowane\n",
    "\n",
    "## Python jako język obiektowy - podstawowe informacje\n",
    "\n",
    "### Wszystko jest obiektem\n",
    "\n",
    "Python jest językiem w pełni obiektowym - wszystko jest obiektem, także wartości typów prymitywnych i funkcje."
   ]
  },
  {
   "cell_type": "code",
   "execution_count": 2,
   "metadata": {},
   "outputs": [
    {
     "data": {
      "text/plain": [
       "8"
      ]
     },
     "execution_count": 2,
     "metadata": {},
     "output_type": "execute_result"
    }
   ],
   "source": [
    "(5).__add__(3)"
   ]
  },
  {
   "attachments": {},
   "cell_type": "markdown",
   "metadata": {},
   "source": [
    "### Dynamiczne typowanie\n",
    "\n",
    "Python jest językiem z **dynamicznym typowaniem**.\n",
    "Zmienne przechowują referencję do obiektu, a dopiero obiekty posiadają typ.\n",
    "Dlatego raz zdefiniowana zmienna może \"zmienić typ\"."
   ]
  },
  {
   "cell_type": "code",
   "execution_count": 3,
   "metadata": {},
   "outputs": [
    {
     "data": {
      "text/plain": [
       "'text'"
      ]
     },
     "execution_count": 3,
     "metadata": {},
     "output_type": "execute_result"
    }
   ],
   "source": [
    "var = 'text'\n",
    "var"
   ]
  },
  {
   "cell_type": "code",
   "execution_count": 4,
   "metadata": {},
   "outputs": [
    {
     "data": {
      "text/plain": [
       "1"
      ]
     },
     "execution_count": 4,
     "metadata": {},
     "output_type": "execute_result"
    }
   ],
   "source": [
    "var = 1\n",
    "var"
   ]
  },
  {
   "attachments": {},
   "cell_type": "markdown",
   "metadata": {},
   "source": [
    "Dynamiczne typowanie znacznie ułatwia programowanie, ponieważ nie narzuca ograniczeń na typ zmiennych.\n",
    "\n",
    "Dzięki temu programista może skupić się na bardziej istotnych aspektach, takich jak poprawność kodu, albo po prostu napisać kod szybciej.\n",
    "\n",
    "Dzięki dynamicznemu typowaniu dostępna jest funkcja ``eval``, która pozwala na wykonanie dowolnego, dynamicznie utworzonego wyrażenia:"
   ]
  },
  {
   "cell_type": "code",
   "execution_count": 5,
   "metadata": {},
   "outputs": [
    {
     "data": {
      "text/plain": [
       "2"
      ]
     },
     "execution_count": 5,
     "metadata": {},
     "output_type": "execute_result"
    }
   ],
   "source": [
    "x = 1\n",
    "eval('x+1')"
   ]
  },
  {
   "attachments": {},
   "cell_type": "markdown",
   "metadata": {},
   "source": [
    "Dynamiczne typowanie umożliwia także łatwe użycie technik metaprogramowania, takich jak metaklasy, które zostaną omówione później.\n",
    "Pozwala to np. na dynamiczne tworzenie nowych typów.\n",
    "Dzięki temu implementacje ORM (*Object-Relational Mapping*, mapowanie obiektowo-relacyjne) są bardziej naturalne."
   ]
  },
  {
   "attachments": {},
   "cell_type": "markdown",
   "metadata": {},
   "source": [
    "### Tożsamość, typ a wartość\n",
    "\n",
    "Każdy obiekt posiada:\n",
    "* **tożsamość** (*identity*) - wskazuje na lokalizację obiektu w pamięci i można ją sprawdzić wywołując wbudowaną funkcję ``id``;\n",
    "* **typ** (*type*) opisuje reprezentację obiektu dla Pythona;\n",
    "* **wartość** (*value*) to dane przechowywane w obiekcie."
   ]
  },
  {
   "cell_type": "code",
   "execution_count": 6,
   "metadata": {},
   "outputs": [
    {
     "data": {
      "text/plain": [
       "139905753472768"
      ]
     },
     "execution_count": 6,
     "metadata": {},
     "output_type": "execute_result"
    }
   ],
   "source": [
    "numbers = [1, 2, 3]\n",
    "id(numbers)"
   ]
  },
  {
   "cell_type": "code",
   "execution_count": 7,
   "metadata": {},
   "outputs": [
    {
     "data": {
      "text/plain": [
       "list"
      ]
     },
     "execution_count": 7,
     "metadata": {},
     "output_type": "execute_result"
    }
   ],
   "source": [
    "type(numbers)"
   ]
  },
  {
   "cell_type": "code",
   "execution_count": 8,
   "metadata": {},
   "outputs": [
    {
     "data": {
      "text/plain": [
       "[1, 2, 3]"
      ]
     },
     "execution_count": 8,
     "metadata": {},
     "output_type": "execute_result"
    }
   ],
   "source": [
    "numbers"
   ]
  },
  {
   "attachments": {},
   "cell_type": "markdown",
   "metadata": {},
   "source": [
    "## Definiowanie klasy\n",
    "\n",
    "Klasę definiujemy za pomocą słowa kluczowego *class*:"
   ]
  },
  {
   "cell_type": "code",
   "execution_count": 9,
   "metadata": {},
   "outputs": [],
   "source": [
    "class MyClass:\n",
    "    def method(self):\n",
    "        pass"
   ]
  },
  {
   "attachments": {},
   "cell_type": "markdown",
   "metadata": {},
   "source": [
    "W Pythonie wszystko jest obiektem, także klasa, dlatego możemy mówić o *obiekcie klasy*.\n",
    "Taki obiekt również ma swój typ:"
   ]
  },
  {
   "cell_type": "code",
   "execution_count": 10,
   "metadata": {},
   "outputs": [
    {
     "data": {
      "text/plain": [
       "__main__.MyClass"
      ]
     },
     "execution_count": 10,
     "metadata": {},
     "output_type": "execute_result"
    }
   ],
   "source": [
    "MyClass"
   ]
  },
  {
   "cell_type": "code",
   "execution_count": 11,
   "metadata": {},
   "outputs": [
    {
     "data": {
      "text/plain": [
       "type"
      ]
     },
     "execution_count": 11,
     "metadata": {},
     "output_type": "execute_result"
    }
   ],
   "source": [
    "type(MyClass)"
   ]
  },
  {
   "attachments": {},
   "cell_type": "markdown",
   "metadata": {},
   "source": [
    "## Metody specjalne\n",
    "\n",
    "Metodami specjalnymi nazywane są metody zaczynające i kończące się dwoma podkreślnikami.\n",
    "Implementują one operacje, które wywołujemy przy użyciu specjalnej składni (np. porównanie dwóch obiektów ``a < b``, dostęp do atrybutów ``obj.attribute`` lub składnia ``obj[key]``).\n",
    "\n",
    "### Najważniejsze metody specjalne\n",
    "\n",
    "| Metoda specjalna        | Opis |\n",
    "|-------------------------|----------------------------------------------------------------------------------------------------------|\n",
    "| `__new__(cls[, ...])`   | Stworzenie nowej instancji klasy. Dokładne omówienie tej metody znajduje się w rozdziale o metaklasach.  |\n",
    "| `__init__(self[, ...])` | Konstruktor. Metoda wywoływana przy tworzeniu nowej instancji danej klasy.                         |\n",
    "| `__del__(self)`         | Destruktor. Ta metoda powinna być przeciążana tylko w szczególnych przypadkach. W większości przypadków lepiej jest utworzyć osobną metodę (np. ``close``), która powinna być jawnie wywołana. |\n",
    "| ``__repr__(self)``      | Wywoływana przez funkcję `repr()` i konwersję do ciągów znaków.                                          |\n",
    "| ``__str__(self)``       | Wywoływana przez funkcję `str()` i `print()`                                                               |\n",
    "| ``__lt__(self, other)``, ``__le__``, ``__eq__``, ``__ne__``, ``__gt__``, ``__ge__`` | Operatory porównania wywoływane przez wyrażenia, takie jak ``a < b``, ``a <= b`` itd. |\n",
    "| ``__cmp__(self, other)``| Funkcja porównania. Wywoływana, gdy nie zdefiniowano powyższych operatorów.                              |\n",
    "| ``__hash__(self)``      | Wywoływana przez funkcję `hash()`, używana w kolekcjach.                                                 |\n",
    "| ``__nonzero__(self)``   | Wywoływana w trakcie sprawdzania wartości `bool`.                                                        |"
   ]
  },
  {
   "attachments": {},
   "cell_type": "markdown",
   "metadata": {},
   "source": [
    "### Dostęp do atrybutów\n",
    "\n",
    "| Metoda specjalna | Opis |\n",
    "|---|---|\n",
    "| `__getattr__(self, name)` | Wywoływana, gdy obiekt nie ma atrybutu `name` |\n",
    "| `__setattr__(self, name, value)` | Wywoływana podczas przypisywania atrybutów |\n",
    "| `__delattr__(self, name)` | Wywoływana przy usuwaniu atrybutu (`del obj.attr`) |"
   ]
  },
  {
   "attachments": {},
   "cell_type": "markdown",
   "metadata": {},
   "source": [
    "Przykład słownika wykorzystującego składnię ``dict.key`` zamiast ``dict[key]``:"
   ]
  },
  {
   "cell_type": "code",
   "execution_count": 12,
   "metadata": {},
   "outputs": [],
   "source": [
    "class Record:\n",
    "    def __init__(self):\n",
    "        # Nie możemy użyć poniższego kodu:\n",
    "        #     self._d = {}\n",
    "        # ponieważ zakończyłby się on rekurencyjnym wywoływaniem metody __setattr__\n",
    "        super().__setattr__('_dict', {})\n",
    "\n",
    "    def __getattr__(self, name):\n",
    "        print('getting', name)\n",
    "        return self._dict[name]\n",
    "    \n",
    "    def __setattr__(self, name, value):\n",
    "        print('setting', name, 'to', value)\n",
    "        self._dict[name] = value\n",
    "        \n",
    "    def __delattr__(self, name):\n",
    "        print('deleting', name)\n",
    "        del self._dict[name]"
   ]
  },
  {
   "cell_type": "code",
   "execution_count": 13,
   "metadata": {},
   "outputs": [
    {
     "name": "stdout",
     "output_type": "stream",
     "text": [
      "setting first_name to John\n",
      "getting first_name\n"
     ]
    },
    {
     "data": {
      "text/plain": [
       "'John'"
      ]
     },
     "execution_count": 13,
     "metadata": {},
     "output_type": "execute_result"
    }
   ],
   "source": [
    "person = Record()\n",
    "person.first_name = \"John\"\n",
    "person.first_name"
   ]
  },
  {
   "cell_type": "code",
   "execution_count": 14,
   "metadata": {},
   "outputs": [
    {
     "name": "stdout",
     "output_type": "stream",
     "text": [
      "deleting first_name\n"
     ]
    }
   ],
   "source": [
    "del person.first_name"
   ]
  },
  {
   "attachments": {},
   "cell_type": "markdown",
   "metadata": {},
   "source": [
    "| Metoda specjalna | Opis |\n",
    "|---|---|\n",
    "| `__getattribute__(self, name)` | Wywoływana bezwarunkowo przy dostępie do atrybutów klasy, nawet jeśli dany atrybut istnieje. |"
   ]
  },
  {
   "cell_type": "code",
   "execution_count": 15,
   "metadata": {},
   "outputs": [],
   "source": [
    "class Person:\n",
    "    def __init__(self, first_name):\n",
    "        self.first_name = first_name\n",
    "    \n",
    "    def __getattribute__(self, name):\n",
    "        print('getattribute', name)\n",
    "        return object.__getattribute__(self, name)"
   ]
  },
  {
   "cell_type": "code",
   "execution_count": 16,
   "metadata": {},
   "outputs": [
    {
     "name": "stdout",
     "output_type": "stream",
     "text": [
      "getattribute first_name\n"
     ]
    },
    {
     "data": {
      "text/plain": [
       "'John'"
      ]
     },
     "execution_count": 16,
     "metadata": {},
     "output_type": "execute_result"
    }
   ],
   "source": [
    "p = Person('John')\n",
    "p.first_name"
   ]
  },
  {
   "attachments": {},
   "cell_type": "markdown",
   "metadata": {},
   "source": [
    "Przykład ilustrujący różnicę między ``__getattr__`` a ``__getattribute__``:"
   ]
  },
  {
   "cell_type": "code",
   "execution_count": 17,
   "metadata": {},
   "outputs": [],
   "source": [
    "class Foo:\n",
    "    def __init__(self):\n",
    "        self.a = \"a\"\n",
    "\n",
    "    def __getattr__(self,attribute):\n",
    "        return f\"You asked for {attribute}, but I'm giving you default\"\n",
    "\n",
    "\n",
    "class Bar:\n",
    "    def __init__(self):\n",
    "        self.a = \"a\"\n",
    "\n",
    "    def __getattribute__(self,attribute):\n",
    "        return f\"You asked for {attribute}, but I'm giving you default\""
   ]
  },
  {
   "cell_type": "code",
   "execution_count": 18,
   "metadata": {},
   "outputs": [
    {
     "data": {
      "text/plain": [
       "'a'"
      ]
     },
     "execution_count": 18,
     "metadata": {},
     "output_type": "execute_result"
    }
   ],
   "source": [
    "foo = Foo()\n",
    "foo.a"
   ]
  },
  {
   "cell_type": "code",
   "execution_count": 19,
   "metadata": {},
   "outputs": [
    {
     "data": {
      "text/plain": [
       "\"You asked for b, but I'm giving you default\""
      ]
     },
     "execution_count": 19,
     "metadata": {},
     "output_type": "execute_result"
    }
   ],
   "source": [
    "foo.b"
   ]
  },
  {
   "cell_type": "code",
   "execution_count": 20,
   "metadata": {},
   "outputs": [
    {
     "data": {
      "text/plain": [
       "'a'"
      ]
     },
     "execution_count": 20,
     "metadata": {},
     "output_type": "execute_result"
    }
   ],
   "source": [
    "getattr(foo, \"a\")"
   ]
  },
  {
   "cell_type": "code",
   "execution_count": 21,
   "metadata": {},
   "outputs": [
    {
     "data": {
      "text/plain": [
       "\"You asked for b, but I'm giving you default\""
      ]
     },
     "execution_count": 21,
     "metadata": {},
     "output_type": "execute_result"
    }
   ],
   "source": [
    "getattr(foo, \"b\")"
   ]
  },
  {
   "cell_type": "code",
   "execution_count": 22,
   "metadata": {},
   "outputs": [],
   "source": [
    "bar = Bar()"
   ]
  },
  {
   "cell_type": "code",
   "execution_count": 23,
   "metadata": {},
   "outputs": [
    {
     "data": {
      "text/plain": [
       "\"You asked for a, but I'm giving you default\""
      ]
     },
     "execution_count": 23,
     "metadata": {},
     "output_type": "execute_result"
    }
   ],
   "source": [
    "bar.a"
   ]
  },
  {
   "cell_type": "code",
   "execution_count": 24,
   "metadata": {},
   "outputs": [
    {
     "data": {
      "text/plain": [
       "\"You asked for b, but I'm giving you default\""
      ]
     },
     "execution_count": 24,
     "metadata": {},
     "output_type": "execute_result"
    }
   ],
   "source": [
    "bar.b"
   ]
  },
  {
   "cell_type": "code",
   "execution_count": 25,
   "metadata": {},
   "outputs": [
    {
     "data": {
      "text/plain": [
       "\"You asked for a, but I'm giving you default\""
      ]
     },
     "execution_count": 25,
     "metadata": {},
     "output_type": "execute_result"
    }
   ],
   "source": [
    "getattr(bar, \"a\")"
   ]
  },
  {
   "cell_type": "code",
   "execution_count": 26,
   "metadata": {},
   "outputs": [
    {
     "data": {
      "text/plain": [
       "\"You asked for b, but I'm giving you default\""
      ]
     },
     "execution_count": 26,
     "metadata": {},
     "output_type": "execute_result"
    }
   ],
   "source": [
    "getattr(bar, \"b\")"
   ]
  },
  {
   "attachments": {},
   "cell_type": "markdown",
   "metadata": {},
   "source": [
    "## Składowe chronione i prywatne\n",
    "\n",
    "### Składowe chronione\n",
    "\n",
    "Składowe, które powinny być modyfikowane tylko przez klasę, powinny zaczynać się od podkreślnika.\n",
    "Jest to powszechnie przyjęta konwencja oznaczająca, że dana składowa nie powinna być modyfikowana z zewnątrz.\n",
    "Jest to jednak tylko konwencja - Python nie posiada mechanizmu ukrywającego takie składowe.\n",
    "Wciąż można je modyfikować spoza klasy."
   ]
  },
  {
   "cell_type": "code",
   "execution_count": 27,
   "metadata": {},
   "outputs": [],
   "source": [
    "class BankAccount:\n",
    "    def __init__(self, initial_balance):\n",
    "        self._balance = initial_balance\n",
    "    \n",
    "    @property\n",
    "    def balance(self):\n",
    "        return self._balance"
   ]
  },
  {
   "cell_type": "code",
   "execution_count": 28,
   "metadata": {},
   "outputs": [
    {
     "name": "stdout",
     "output_type": "stream",
     "text": [
      "100.0\n",
      "100.0\n"
     ]
    }
   ],
   "source": [
    "account = BankAccount(100.0)\n",
    "print(account.balance)\n",
    "print(account._balance) # # składowe chronione są wciąż dostępne z zewnątrz klas"
   ]
  },
  {
   "attachments": {},
   "cell_type": "markdown",
   "metadata": {},
   "source": [
    "### Składowe prywatne\n",
    "\n",
    "Aby ukryć atrybut lub metodę przed dostępem spoza klasy (składowa *private*), należy jej nazwę poprzedzić dwoma podkreślnikami (np.  `__atrybut`).\n",
    "Taka składowa jest dostępna tylko wewnątrz tej klasy.\n",
    "Składowe zaczynające się od dwóch podkreślników (nie będące metodami specjalnymi) są traktowane w szczególny sposób - ich nazwa zostaje zmieniona na `_NazwaKlasy__atrybut`.\n",
    "Do tej składowej można się wciąż odwołać z zewnątrz klasy, ale tylko używając zmienionej nazwy."
   ]
  },
  {
   "cell_type": "code",
   "execution_count": 29,
   "metadata": {},
   "outputs": [],
   "source": [
    "class BankAccount:\n",
    "    def __init__(self, owner, balance=0):\n",
    "        self.owner = owner\n",
    "        self.__balance = balance\n",
    "    \n",
    "    def withdraw(self, amount):\n",
    "        self.__balance -= amount\n",
    "    \n",
    "    def deposit(self, amount):\n",
    "        self.__balance += amount\n",
    "    \n",
    "    def info(self):\n",
    "        print(\"owner:\", self.owner, \"; balance:\", self.__balance)"
   ]
  },
  {
   "cell_type": "code",
   "execution_count": 30,
   "metadata": {},
   "outputs": [
    {
     "ename": "AttributeError",
     "evalue": "'BankAccount' object has no attribute '__balance'",
     "output_type": "error",
     "traceback": [
      "\u001b[0;31m---------------------------------------------------------------------------\u001b[0m",
      "\u001b[0;31mAttributeError\u001b[0m                            Traceback (most recent call last)",
      "\u001b[0;32m<ipython-input-30-e6f05cd5e055>\u001b[0m in \u001b[0;36m<module>\u001b[0;34m\u001b[0m\n\u001b[1;32m      1\u001b[0m \u001b[0mjk\u001b[0m \u001b[0;34m=\u001b[0m \u001b[0mBankAccount\u001b[0m\u001b[0;34m(\u001b[0m\u001b[0;34m\"Jan Kowalski\"\u001b[0m\u001b[0;34m,\u001b[0m \u001b[0;36m1000\u001b[0m\u001b[0;34m)\u001b[0m\u001b[0;34m\u001b[0m\u001b[0;34m\u001b[0m\u001b[0m\n\u001b[0;32m----> 2\u001b[0;31m \u001b[0mprint\u001b[0m\u001b[0;34m(\u001b[0m\u001b[0mjk\u001b[0m\u001b[0;34m.\u001b[0m\u001b[0m__balance\u001b[0m\u001b[0;34m)\u001b[0m \u001b[0;31m# błąd!\u001b[0m\u001b[0;34m\u001b[0m\u001b[0;34m\u001b[0m\u001b[0m\n\u001b[0m",
      "\u001b[0;31mAttributeError\u001b[0m: 'BankAccount' object has no attribute '__balance'"
     ]
    }
   ],
   "source": [
    "jk = BankAccount(\"Jan Kowalski\", 1000)\n",
    "print(jk.__balance) # błąd!"
   ]
  },
  {
   "cell_type": "code",
   "execution_count": null,
   "metadata": {},
   "outputs": [
    {
     "name": "stdout",
     "output_type": "stream",
     "text": [
      "1000\n"
     ]
    }
   ],
   "source": [
    "print(jk._BankAccount__balance) # ok"
   ]
  },
  {
   "attachments": {},
   "cell_type": "markdown",
   "metadata": {},
   "source": [
    "## Atrybuty klasy i metody statyczne\n",
    "\n",
    "Składowe statyczne są wspólne dla wszystkich instancji klasy.\n",
    "\n",
    "Z kolei metoda statyczna to po prostu funkcja w przestrzeni nazw klasy.\n",
    "Taką funkcję należy udekorować ``@staticmethod``.\n",
    "Taka funkcja nie przyjmuje instancji klasy ``self``."
   ]
  },
  {
   "cell_type": "code",
   "execution_count": null,
   "metadata": {},
   "outputs": [],
   "source": [
    "class CountedObject(object):\n",
    "    count = 0   # statyczna składowa\n",
    "    \n",
    "    def __init__(self):\n",
    "        CountedObject.count += 1\n",
    "    \n",
    "    @staticmethod  # statyczna metoda\n",
    "    def get_count():\n",
    "        return CountedObject.count"
   ]
  },
  {
   "cell_type": "code",
   "execution_count": null,
   "metadata": {},
   "outputs": [
    {
     "data": {
      "text/plain": [
       "0"
      ]
     },
     "execution_count": 46,
     "metadata": {},
     "output_type": "execute_result"
    }
   ],
   "source": [
    "CountedObject.get_count()"
   ]
  },
  {
   "cell_type": "code",
   "execution_count": null,
   "metadata": {},
   "outputs": [
    {
     "data": {
      "text/plain": [
       "4"
      ]
     },
     "execution_count": 47,
     "metadata": {},
     "output_type": "execute_result"
    }
   ],
   "source": [
    "c1 = CountedObject()\n",
    "c2 = CountedObject()\n",
    "cs = [CountedObject(), CountedObject()]\n",
    "\n",
    "CountedObject.get_count()"
   ]
  },
  {
   "attachments": {},
   "cell_type": "markdown",
   "metadata": {},
   "source": [
    "Czasami atrybutów klasy używa się, aby zainicjalizować domyślną wartość dla pewnych atrybutów instancji.\n",
    "Należy jednak być ostrożnym:"
   ]
  },
  {
   "cell_type": "code",
   "execution_count": null,
   "metadata": {},
   "outputs": [
    {
     "name": "stdout",
     "output_type": "stream",
     "text": [
      "John\n",
      "John\n"
     ]
    }
   ],
   "source": [
    "class PersonWithDefaultAttributes:\n",
    "    first_name = 'John'\n",
    "    last_name = 'Smith'\n",
    "    phones = []\n",
    "\n",
    "p1 = PersonWithDefaultAttributes()\n",
    "p2 = PersonWithDefaultAttributes()\n",
    "\n",
    "print(p1.first_name)\n",
    "print(p2.first_name)"
   ]
  },
  {
   "cell_type": "code",
   "execution_count": null,
   "metadata": {},
   "outputs": [
    {
     "name": "stdout",
     "output_type": "stream",
     "text": [
      "Bob\n",
      "John\n"
     ]
    }
   ],
   "source": [
    "p1.first_name = 'Bob'\n",
    "print(p1.first_name)\n",
    "print(p2.first_name)"
   ]
  },
  {
   "cell_type": "code",
   "execution_count": null,
   "metadata": {},
   "outputs": [
    {
     "name": "stdout",
     "output_type": "stream",
     "text": [
      "Williams\n",
      "Williams\n"
     ]
    }
   ],
   "source": [
    "PersonWithDefaultAttributes.last_name = 'Williams'\n",
    "print(p1.last_name)\n",
    "print(p2.last_name)"
   ]
  },
  {
   "cell_type": "code",
   "execution_count": null,
   "metadata": {},
   "outputs": [
    {
     "name": "stdout",
     "output_type": "stream",
     "text": [
      "['+48123456789']\n",
      "['+48123456789']\n"
     ]
    }
   ],
   "source": [
    "p1.phones.append('+48123456789')\n",
    "print(p1.phones)\n",
    "print(p2.phones)"
   ]
  },
  {
   "attachments": {},
   "cell_type": "markdown",
   "metadata": {},
   "source": [
    "## Metody klasy\n",
    "\n",
    "Zwykła metoda ma dostęp do instancji klasy (poprzez parametr `self`).\n",
    "Z kolei metoda klasy ma dostęp do klasy, z której została wywołana, lub do **klasy instacji**, z której została wywołana.\n",
    "\n",
    "Metody klasy są przydatne, jeżeli chcemy pozwolić na więcej niż jeden sposób tworzenia instancji."
   ]
  },
  {
   "cell_type": "code",
   "execution_count": null,
   "metadata": {},
   "outputs": [],
   "source": [
    "class Date:\n",
    "    def __init__(self, day, month, year):\n",
    "        self.day = day\n",
    "        self.month = month\n",
    "        self.year = year\n",
    "    \n",
    "    @classmethod\n",
    "    def from_string(cls, date_as_string):\n",
    "        day, month, year = date_as_string.split('-')\n",
    "        return cls(int(day), int(month), int(year)) # utworzenie instancji klasy cls"
   ]
  },
  {
   "cell_type": "code",
   "execution_count": null,
   "metadata": {},
   "outputs": [],
   "source": [
    "d1 = Date(20, 1, 2016)\n",
    "d2 = Date.from_string('20-01-2016')"
   ]
  },
  {
   "attachments": {},
   "cell_type": "markdown",
   "metadata": {},
   "source": [
    "Warto zwrócić uwagę na to, że wewnątrz metody ``from_string`` tworzona jest nowa instancja klasy ``cls``.\n",
    "Nie musi być to klasa ``Date``.\n",
    "Tak będzie w przypadku klas dziedziczących po ``Date``."
   ]
  },
  {
   "attachments": {},
   "cell_type": "markdown",
   "metadata": {},
   "source": [
    "## Deskryptory\n",
    "\n",
    "Deskryptorem jest atrybut (obiekt), który zawiera przynajmniej jedną z trzech metod specjalnych tzw. \"protokołu deskryptora\".\n",
    "\n",
    "| Metody specjalne deskryptora     | Opis                                                                 |\n",
    "|----------------------------------|----------------------------------------------------------------------|\n",
    "| `__get__(self, instance, owner)` |   Wywoływana do pobrania atrybutu z obiektu lub klasy \"właściciela\"  |\n",
    "| `__set__(self, instance, value)` |   Wywoływana do ustawienia wartości atrybutu                         |\n",
    "| `__delete__(self, instance)`     |   Wywoływana w czasie usuwania atrybutu                              |\n",
    "\n",
    "\n",
    "Taki obiekt musi pojawić się jako atrybut w obiekcie - \"właścicielu\". W momencie dostępu do takiego atrybutu wywoływane są odpowiednie metody deskryptora.\n",
    "\n",
    "### Rodzaje deskryptorów\n",
    "\n",
    "* **non-data descriptor** - posiada tylko metodę `__get__()`. Przy dostępie do atrybutu podjęta może zostać akcja zaimplementowana w metodzie `__get__()`"
   ]
  },
  {
   "cell_type": "code",
   "execution_count": null,
   "metadata": {},
   "outputs": [],
   "source": [
    "import os\n",
    "\n",
    "class DirectorySize:\n",
    "    def __get__(self, instance, owner_class):\n",
    "        return len(os.listdir(instance.directory_name))\n",
    "    \n",
    "class Directory:\n",
    "    size = DirectorySize() # descriptor instance\n",
    "\n",
    "    def __init__(self, directory_name):\n",
    "        self.directory_name = directory_name # regular instance attribute"
   ]
  },
  {
   "cell_type": "code",
   "execution_count": null,
   "metadata": {},
   "outputs": [
    {
     "data": {
      "text/plain": [
       "28"
      ]
     },
     "execution_count": 31,
     "metadata": {},
     "output_type": "execute_result"
    }
   ],
   "source": [
    "local_dir = Directory('.')\n",
    "local_dir.size"
   ]
  },
  {
   "attachments": {},
   "cell_type": "markdown",
   "metadata": {},
   "source": [
    "* **data descriptor** - posiada zarówno metodę `__get__()` jak i `__set__()`. Może też zawierać definicję metody `__delete__()`. Umożliwia tworzenie obiektu *mutable*, do którego delegowane są próby dostępu do atrybutu i ustawiania jego wartości."
   ]
  },
  {
   "cell_type": "code",
   "execution_count": null,
   "metadata": {},
   "outputs": [],
   "source": [
    "import logging\n",
    "\n",
    "logging.basicConfig(level=logging.INFO)\n",
    "\n",
    "class LoggedAgeAccess:\n",
    "\n",
    "    def __get__(self, instance, owner_class=None):\n",
    "        value = instance._age\n",
    "        logging.info('Accessing %r.%r giving %r', instance, 'age', value)\n",
    "        return value\n",
    "\n",
    "    def __set__(self, instance, value):\n",
    "        logging.info('Updating %r.%r to %r', instance, 'age', value)\n",
    "        instance._age = value\n",
    "\n",
    "\n",
    "class Person:\n",
    "    age = LoggedAgeAccess()             # Descriptor instance\n",
    "\n",
    "    def __init__(self, name, age):\n",
    "        self.name = name                # Regular instance attribute\n",
    "        self.age = age                  # Calls __set__()\n",
    "\n",
    "    def birthday(self):\n",
    "        self.age += 1                   # Calls both __get__() and __set__()"
   ]
  },
  {
   "cell_type": "code",
   "execution_count": null,
   "metadata": {},
   "outputs": [
    {
     "name": "stderr",
     "output_type": "stream",
     "text": [
      "INFO:root:Updating <__main__.Person object at 0x000001BE9E42C490>.'age' to 31\n",
      "INFO:root:Updating <__main__.Person object at 0x000001BE9E9E2450>.'age' to 27\n",
      "INFO:root:Accessing <__main__.Person object at 0x000001BE9E42C490>.'age' giving 31\n",
      "INFO:root:Updating <__main__.Person object at 0x000001BE9E42C490>.'age' to 32\n",
      "INFO:root:Updating <__main__.Person object at 0x000001BE9E9E2450>.'age' to 30\n"
     ]
    }
   ],
   "source": [
    "john = Person(\"John\", 31)\n",
    "mary = Person(\"Mary\", 27)\n",
    "john.birthday()\n",
    "mary.age = 30"
   ]
  },
  {
   "attachments": {},
   "cell_type": "markdown",
   "metadata": {},
   "source": [
    "### Nazwy atrybutów i deskryptory\n",
    "\n",
    "Jeśli klasa używa wielu deskryptorów, to często powstaje potrzeba związania obiektu deskryptora z nazwą atrybutu, nad którym deskryptor przejmuje kontrolę. Wykorzystuje się do tego metodę `__set_name__()` w klasie deskryptora:"
   ]
  },
  {
   "cell_type": "code",
   "execution_count": null,
   "metadata": {},
   "outputs": [
    {
     "name": "stderr",
     "output_type": "stream",
     "text": [
      "INFO:root:Setting names: 'name' and '_name'\n",
      "INFO:root:Setting names: 'age' and '_age'\n"
     ]
    }
   ],
   "source": [
    "import logging\n",
    "\n",
    "logging.basicConfig(level=logging.INFO)\n",
    "\n",
    "class LoggedAccess:\n",
    "\n",
    "    def __set_name__(self, owner, name):\n",
    "        self.public_name = name\n",
    "        self.private_name = '_' + name\n",
    "        logging.info('Setting names: %r and %r', self.public_name, self.private_name)\n",
    "\n",
    "    def __get__(self, instance, owner_class=None):\n",
    "        value = getattr(instance, self.private_name)\n",
    "        logging.info('Accessing %r giving %r', self.public_name, value)\n",
    "        return value\n",
    "\n",
    "    def __set__(self, instance, value):\n",
    "        logging.info('Updating %r to %r', self.public_name, value)\n",
    "        setattr(instance, self.private_name, value)\n",
    "\n",
    "class Person:\n",
    "    name = LoggedAccess()                # First descriptor instance\n",
    "    age = LoggedAccess()                 # Second descriptor instance\n",
    "\n",
    "    def __init__(self, name, age):\n",
    "        self.name = name                 # Calls the first descriptor\n",
    "        self.age = age                   # Calls the second descriptor\n",
    "\n",
    "    def birthday(self):\n",
    "        self.age += 1"
   ]
  },
  {
   "cell_type": "code",
   "execution_count": null,
   "metadata": {},
   "outputs": [
    {
     "data": {
      "text/plain": [
       "{'public_name': 'name', 'private_name': '_name'}"
      ]
     },
     "execution_count": 45,
     "metadata": {},
     "output_type": "execute_result"
    }
   ],
   "source": [
    "vars(vars(Person)['name'])"
   ]
  },
  {
   "cell_type": "code",
   "execution_count": null,
   "metadata": {},
   "outputs": [
    {
     "data": {
      "text/plain": [
       "{'public_name': 'age', 'private_name': '_age'}"
      ]
     },
     "execution_count": 46,
     "metadata": {},
     "output_type": "execute_result"
    }
   ],
   "source": [
    "vars(vars(Person)['age'])"
   ]
  },
  {
   "cell_type": "code",
   "execution_count": null,
   "metadata": {},
   "outputs": [
    {
     "name": "stderr",
     "output_type": "stream",
     "text": [
      "INFO:root:Updating 'name' to 'James'\n",
      "INFO:root:Updating 'age' to 43\n"
     ]
    }
   ],
   "source": [
    "james = Person(\"James\", 43)"
   ]
  },
  {
   "cell_type": "code",
   "execution_count": null,
   "metadata": {},
   "outputs": [
    {
     "name": "stderr",
     "output_type": "stream",
     "text": [
      "INFO:root:Accessing 'age' giving 43\n",
      "INFO:root:Updating 'age' to 44\n"
     ]
    }
   ],
   "source": [
    "james.birthday()"
   ]
  },
  {
   "attachments": {},
   "cell_type": "markdown",
   "metadata": {},
   "source": [
    "### Kolejność wyszukiwania nazw przy dostępie do atrybutów\n",
    "\n",
    "#### Wywołanie z instancji\n",
    "\n",
    "Przy próbie dostępu do atrybutu `x` dla obiektu `o` (`o.x`):\n",
    "\n",
    "* **data descriptor**: wartość zwrócona z metody `__get__()` deskryptora pola\n",
    "\n",
    "* **składowa instancji**: wartość `o. __dict__[x]`\n",
    "\n",
    "* **non-data descriptor**: wartość zwrócona z metody `__get__()` deskryptora pola\n",
    "\n",
    "* **składowa klasy**: `type(o).__dict__['x']`\n",
    "\n",
    "* **składowe klas bazowych**: wyszukiwanie w kolejności MRO,\n",
    "\n",
    "* **`__getattr__()`**, jeśli ta metoda została zdefiniowana w klasie\n",
    "\n",
    "#### Wywołanie z klasy\n",
    "\n",
    "Przy próbie dostępu do atrybutu `x` dla klasy `C` (`C.x`):\n",
    "\n",
    "* **data descriptor**: wartość zwrócona z metody `__get__()` deskryptora pola klasy\n",
    "\n",
    "* **składowa klasy lub klas bazowych**: poszukiwanie w `C.__dict__['x']` lub klasach bazowych\n",
    "\n",
    "* **non-data descriptor**: wartość zwrócona z metody `__get__()` deskryptora pola"
   ]
  },
  {
   "attachments": {},
   "cell_type": "markdown",
   "metadata": {},
   "source": [
    "### Właściwości (properties)\n",
    "\n",
    "Przykładem deskryptora jest wbudowany dekorator ``@property`` pozwalający na enkapsulację obiektu, to znaczy kontrolę dostępu do atrybutów przy użyciu metod dostępowych."
   ]
  },
  {
   "cell_type": "code",
   "execution_count": null,
   "metadata": {},
   "outputs": [],
   "source": [
    "class BankAccount:\n",
    "    def __init__(self, daily_limit):\n",
    "        self.__daily_limit = daily_limit\n",
    "    \n",
    "    @property\n",
    "    def daily_limit(self):\n",
    "        print('getting daily_limit')\n",
    "        return self.__daily_limit\n",
    "    \n",
    "    @daily_limit.setter\n",
    "    def daily_limit(self, value):\n",
    "        if value < 0:\n",
    "            raise ValueError('Value must be >= 0')\n",
    "        self.__daily_limit = value"
   ]
  },
  {
   "cell_type": "code",
   "execution_count": null,
   "metadata": {},
   "outputs": [
    {
     "name": "stdout",
     "output_type": "stream",
     "text": [
      "getting daily_limit\n"
     ]
    },
    {
     "data": {
      "text/plain": [
       "100.0"
      ]
     },
     "execution_count": 71,
     "metadata": {},
     "output_type": "execute_result"
    }
   ],
   "source": [
    "account = BankAccount(100.0)\n",
    "account.daily_limit"
   ]
  },
  {
   "cell_type": "code",
   "execution_count": null,
   "metadata": {},
   "outputs": [
    {
     "name": "stdout",
     "output_type": "stream",
     "text": [
      "getting daily_limit\n"
     ]
    },
    {
     "data": {
      "text/plain": [
       "200.0"
      ]
     },
     "execution_count": 72,
     "metadata": {},
     "output_type": "execute_result"
    }
   ],
   "source": [
    "account.daily_limit = 200.0\n",
    "account.daily_limit"
   ]
  },
  {
   "cell_type": "code",
   "execution_count": null,
   "metadata": {},
   "outputs": [
    {
     "ename": "ValueError",
     "evalue": "Value must be >= 0",
     "output_type": "error",
     "traceback": [
      "\u001b[0;31m---------------------------------------------------------------------------\u001b[0m",
      "\u001b[0;31mValueError\u001b[0m                                Traceback (most recent call last)",
      "\u001b[0;32m<ipython-input-73-764421fb5f17>\u001b[0m in \u001b[0;36m<module>\u001b[0;34m\u001b[0m\n\u001b[0;32m----> 1\u001b[0;31m \u001b[0maccount\u001b[0m\u001b[0;34m.\u001b[0m\u001b[0mdaily_limit\u001b[0m \u001b[0;34m=\u001b[0m \u001b[0;34m-\u001b[0m\u001b[0;36m100.0\u001b[0m\u001b[0;34m\u001b[0m\u001b[0;34m\u001b[0m\u001b[0m\n\u001b[0m",
      "\u001b[0;32m<ipython-input-70-a7a363ba8f92>\u001b[0m in \u001b[0;36mdaily_limit\u001b[0;34m(self, value)\u001b[0m\n\u001b[1;32m     11\u001b[0m     \u001b[0;32mdef\u001b[0m \u001b[0mdaily_limit\u001b[0m\u001b[0;34m(\u001b[0m\u001b[0mself\u001b[0m\u001b[0;34m,\u001b[0m \u001b[0mvalue\u001b[0m\u001b[0;34m)\u001b[0m\u001b[0;34m:\u001b[0m\u001b[0;34m\u001b[0m\u001b[0;34m\u001b[0m\u001b[0m\n\u001b[1;32m     12\u001b[0m         \u001b[0;32mif\u001b[0m \u001b[0mvalue\u001b[0m \u001b[0;34m<\u001b[0m \u001b[0;36m0\u001b[0m\u001b[0;34m:\u001b[0m\u001b[0;34m\u001b[0m\u001b[0;34m\u001b[0m\u001b[0m\n\u001b[0;32m---> 13\u001b[0;31m             \u001b[0;32mraise\u001b[0m \u001b[0mValueError\u001b[0m\u001b[0;34m(\u001b[0m\u001b[0;34m'Value must be >= 0'\u001b[0m\u001b[0;34m)\u001b[0m\u001b[0;34m\u001b[0m\u001b[0;34m\u001b[0m\u001b[0m\n\u001b[0m\u001b[1;32m     14\u001b[0m         \u001b[0mself\u001b[0m\u001b[0;34m.\u001b[0m\u001b[0m__daily_limit\u001b[0m \u001b[0;34m=\u001b[0m \u001b[0mvalue\u001b[0m\u001b[0;34m\u001b[0m\u001b[0;34m\u001b[0m\u001b[0m\n",
      "\u001b[0;31mValueError\u001b[0m: Value must be >= 0"
     ]
    }
   ],
   "source": [
    "account.daily_limit = -100.0"
   ]
  },
  {
   "attachments": {},
   "cell_type": "markdown",
   "metadata": {},
   "source": [
    "Gdyby nie został zdefiniowany setter, to znaczy w kodzie nie pojawiłby się `@daily_limit.setter`, wówczas ``daily_limit`` byłaby właściwością tylko do odczytu.\n",
    "Próby zmiany jej wartości kończyłyby się błędem."
   ]
  },
  {
   "attachments": {},
   "cell_type": "markdown",
   "metadata": {},
   "source": [
    "## Sloty\n",
    "\n",
    "Każdy obiekt Pythona posiada `__dict__` - słownik atrybutów typu `dict`. W rezultacie dla każdego obiektu mamy dość spory narzut związany ze zużyciem pamięci i czasem dostępu do składowych słownika. \n",
    "\n",
    "Jeśli nasza klasa nie zamierza korzystać z dynamicznej natury takiego słownika, to można w klasie zdefiniować atrybut `__slots__` i podać listę wszystkich składowych. Atrybuty wymienione na liście są przechowane w tablicy referencji, która zużywa znacząco mniej pamięci."
   ]
  },
  {
   "cell_type": "code",
   "execution_count": 64,
   "metadata": {},
   "outputs": [],
   "source": [
    "class Pixel:\n",
    "    __slots__ = ('x', 'y')"
   ]
  },
  {
   "cell_type": "code",
   "execution_count": 65,
   "metadata": {},
   "outputs": [],
   "source": [
    "p = Pixel()"
   ]
  },
  {
   "attachments": {},
   "cell_type": "markdown",
   "metadata": {},
   "source": [
    "Utworzona instancja typu `Pixel` nie posiada słownika `__dict__`:"
   ]
  },
  {
   "cell_type": "code",
   "execution_count": 66,
   "metadata": {},
   "outputs": [
    {
     "ename": "AttributeError",
     "evalue": "'Pixel' object has no attribute '__dict__'",
     "output_type": "error",
     "traceback": [
      "\u001b[0;31m---------------------------------------------------------------------------\u001b[0m",
      "\u001b[0;31mAttributeError\u001b[0m                            Traceback (most recent call last)",
      "\u001b[0;32m<ipython-input-66-33b2432b7e42>\u001b[0m in \u001b[0;36m<module>\u001b[0;34m\u001b[0m\n\u001b[0;32m----> 1\u001b[0;31m \u001b[0mp\u001b[0m\u001b[0;34m.\u001b[0m\u001b[0m__dict__\u001b[0m\u001b[0;34m\u001b[0m\u001b[0;34m\u001b[0m\u001b[0m\n\u001b[0m",
      "\u001b[0;31mAttributeError\u001b[0m: 'Pixel' object has no attribute '__dict__'"
     ]
    }
   ],
   "source": [
    "p.__dict__"
   ]
  },
  {
   "attachments": {},
   "cell_type": "markdown",
   "metadata": {},
   "source": [
    "Możemy normalnie korzystać z atrybutów `x` i `y`:"
   ]
  },
  {
   "cell_type": "code",
   "execution_count": 67,
   "metadata": {},
   "outputs": [],
   "source": [
    "p.x = 10\n",
    "p.y = 20"
   ]
  },
  {
   "attachments": {},
   "cell_type": "markdown",
   "metadata": {},
   "source": [
    "Próba ustawienia nowego atrybutu (nie wymienionego na liście slotów) skończy się wyjątkiem:"
   ]
  },
  {
   "cell_type": "code",
   "execution_count": 68,
   "metadata": {},
   "outputs": [
    {
     "ename": "AttributeError",
     "evalue": "'Pixel' object has no attribute 'z'",
     "output_type": "error",
     "traceback": [
      "\u001b[0;31m---------------------------------------------------------------------------\u001b[0m",
      "\u001b[0;31mAttributeError\u001b[0m                            Traceback (most recent call last)",
      "\u001b[0;32m<ipython-input-68-cadbcb940683>\u001b[0m in \u001b[0;36m<module>\u001b[0;34m\u001b[0m\n\u001b[0;32m----> 1\u001b[0;31m \u001b[0mp\u001b[0m\u001b[0;34m.\u001b[0m\u001b[0mz\u001b[0m \u001b[0;34m=\u001b[0m \u001b[0;36m30\u001b[0m\u001b[0;34m\u001b[0m\u001b[0;34m\u001b[0m\u001b[0m\n\u001b[0m",
      "\u001b[0;31mAttributeError\u001b[0m: 'Pixel' object has no attribute 'z'"
     ]
    }
   ],
   "source": [
    "p.z = 30"
   ]
  },
  {
   "attachments": {},
   "cell_type": "markdown",
   "metadata": {},
   "source": [
    "## Dziedziczenie\n",
    "\n",
    "### Podstawy\n",
    "\n",
    "Dziedziczenie definiowane jest za pomocą składni:"
   ]
  },
  {
   "cell_type": "code",
   "execution_count": null,
   "metadata": {},
   "outputs": [],
   "source": [
    "class Base:\n",
    "    def base_method(self):\n",
    "        pass\n",
    "\n",
    "class Derived(Base):\n",
    "    def derived_method(self):\n",
    "        pass"
   ]
  },
  {
   "attachments": {},
   "cell_type": "markdown",
   "metadata": {},
   "source": [
    "### Method Resolution Order (MRO)\n",
    "\n",
    "Wszystkie metody zdefiniowane bezpośrednio w klasie ``C`` są przechowywane w słowniku ``C.__dict__``:"
   ]
  },
  {
   "cell_type": "code",
   "execution_count": null,
   "metadata": {},
   "outputs": [
    {
     "data": {
      "text/plain": [
       "mappingproxy({'__module__': '__main__',\n",
       "              'base_method': <function __main__.Base.base_method(self)>,\n",
       "              '__dict__': <attribute '__dict__' of 'Base' objects>,\n",
       "              '__weakref__': <attribute '__weakref__' of 'Base' objects>,\n",
       "              '__doc__': None})"
      ]
     },
     "execution_count": 77,
     "metadata": {},
     "output_type": "execute_result"
    }
   ],
   "source": [
    "Base.__dict__"
   ]
  },
  {
   "cell_type": "code",
   "execution_count": null,
   "metadata": {},
   "outputs": [
    {
     "data": {
      "text/plain": [
       "mappingproxy({'__module__': '__main__',\n",
       "              'derived_method': <function __main__.Derived.derived_method(self)>,\n",
       "              '__doc__': None})"
      ]
     },
     "execution_count": 78,
     "metadata": {},
     "output_type": "execute_result"
    }
   ],
   "source": [
    "Derived.__dict__"
   ]
  },
  {
   "cell_type": "code",
   "execution_count": null,
   "metadata": {},
   "outputs": [],
   "source": [
    "d = Derived()\n",
    "d.base_method() # it works"
   ]
  },
  {
   "attachments": {},
   "cell_type": "markdown",
   "metadata": {},
   "source": [
    "W klasie potomnej ``Derived`` dostępne są metody zdefiniowane w klasie bazowej ``Base`` (takie jak ``base_method``), mimo że nie występują one bezpośrednio w słowniku potomka.\n",
    "W momencie wywoływania metody ``d.base_method()``, metoda ``base_method`` jest poszukiwana w słowniku klasy ``Derived``. Ponieważ ten słownik nie ma tej metody, przeszukiwany jest słownik klasy ``Base``.\n",
    "\n",
    "W ogólnym przypadku, przeszukiwane są słowniki wszystkich klas określonych w ``C.__mro__``.\n",
    "Ta krotka zawiera klasę ``C``, jej klasy nadrzędne, itd."
   ]
  },
  {
   "cell_type": "code",
   "execution_count": null,
   "metadata": {},
   "outputs": [
    {
     "data": {
      "text/plain": [
       "(__main__.Derived, __main__.Base, object)"
      ]
     },
     "execution_count": 80,
     "metadata": {},
     "output_type": "execute_result"
    }
   ],
   "source": [
    "Derived.__mro__"
   ]
  },
  {
   "attachments": {},
   "cell_type": "markdown",
   "metadata": {},
   "source": [
    "### Dziedziczenie wielobazowe\n",
    "\n",
    "W Pythonie możliwe jest dziedziczenie po więcej niż jednej klasie.\n",
    "\n",
    "Przeciążając metody (w szczególności konstruktor ``__init__``) należy pamiętać, aby wywołać także wersję rodzica przy użyciu funkcji ``super``, która zwraca obiekt proxy służący do wywoływania metod rodzica.\n",
    "Obiekt jest wybierany zgodnie z MRO."
   ]
  },
  {
   "cell_type": "code",
   "execution_count": null,
   "metadata": {},
   "outputs": [],
   "source": [
    "class A:\n",
    "    def __init__(self):\n",
    "        print(\"A\")\n",
    "\n",
    "class B(A):\n",
    "    def __init__(self):\n",
    "        super().__init__()\n",
    "        print(\"B\")\n",
    "\n",
    "class C(A):\n",
    "    def __init__(self):\n",
    "        super().__init__()\n",
    "        print(\"C\")\n",
    "\n",
    "class D(B, C):\n",
    "    def __init__(self):\n",
    "        super().__init__()\n",
    "        print(\"D\")"
   ]
  },
  {
   "cell_type": "code",
   "execution_count": null,
   "metadata": {},
   "outputs": [
    {
     "data": {
      "text/plain": [
       "(__main__.D, __main__.B, __main__.C, __main__.A, object)"
      ]
     },
     "execution_count": 82,
     "metadata": {},
     "output_type": "execute_result"
    }
   ],
   "source": [
    "D.__mro__"
   ]
  },
  {
   "cell_type": "code",
   "execution_count": null,
   "metadata": {},
   "outputs": [
    {
     "name": "stdout",
     "output_type": "stream",
     "text": [
      "A\n",
      "C\n",
      "B\n",
      "D\n"
     ]
    },
    {
     "data": {
      "text/plain": [
       "<__main__.D at 0x7fc85b329ee0>"
      ]
     },
     "execution_count": 83,
     "metadata": {},
     "output_type": "execute_result"
    }
   ],
   "source": [
    "D()"
   ]
  },
  {
   "attachments": {},
   "cell_type": "markdown",
   "metadata": {},
   "source": [
    "Czasami nie jest możliwe utworzenie sensownego MRO:"
   ]
  },
  {
   "cell_type": "code",
   "execution_count": null,
   "metadata": {},
   "outputs": [
    {
     "ename": "TypeError",
     "evalue": "Cannot create a consistent method resolution\norder (MRO) for bases A, B",
     "output_type": "error",
     "traceback": [
      "\u001b[0;31m---------------------------------------------------------------------------\u001b[0m",
      "\u001b[0;31mTypeError\u001b[0m                                 Traceback (most recent call last)",
      "\u001b[0;32m<ipython-input-86-b8bb9ff5be5c>\u001b[0m in \u001b[0;36m<module>\u001b[0;34m\u001b[0m\n\u001b[1;32m      3\u001b[0m \u001b[0;32mclass\u001b[0m \u001b[0mC\u001b[0m\u001b[0;34m(\u001b[0m\u001b[0mA\u001b[0m\u001b[0;34m,\u001b[0m \u001b[0mB\u001b[0m\u001b[0;34m)\u001b[0m\u001b[0;34m:\u001b[0m \u001b[0;32mpass\u001b[0m\u001b[0;34m\u001b[0m\u001b[0;34m\u001b[0m\u001b[0m\n\u001b[1;32m      4\u001b[0m \u001b[0;32mclass\u001b[0m \u001b[0mD\u001b[0m\u001b[0;34m(\u001b[0m\u001b[0mB\u001b[0m\u001b[0;34m,\u001b[0m \u001b[0mA\u001b[0m\u001b[0;34m)\u001b[0m\u001b[0;34m:\u001b[0m \u001b[0;32mpass\u001b[0m\u001b[0;34m\u001b[0m\u001b[0;34m\u001b[0m\u001b[0m\n\u001b[0;32m----> 5\u001b[0;31m \u001b[0;32mclass\u001b[0m \u001b[0mE\u001b[0m\u001b[0;34m(\u001b[0m\u001b[0mC\u001b[0m\u001b[0;34m,\u001b[0m \u001b[0mD\u001b[0m\u001b[0;34m)\u001b[0m\u001b[0;34m:\u001b[0m \u001b[0;32mpass\u001b[0m\u001b[0;34m\u001b[0m\u001b[0;34m\u001b[0m\u001b[0m\n\u001b[0m",
      "\u001b[0;31mTypeError\u001b[0m: Cannot create a consistent method resolution\norder (MRO) for bases A, B"
     ]
    }
   ],
   "source": [
    "class A: pass\n",
    "class B: pass\n",
    "class C(A, B): pass\n",
    "class D(B, A): pass\n",
    "class E(C, D): pass"
   ]
  },
  {
   "attachments": {},
   "cell_type": "markdown",
   "metadata": {},
   "source": [
    "### Mixins (klasy domieszkowe)\n",
    "\n",
    "Klasy domieszkowe (*mixins*) to klasy, które dostarczają określoną funkcjonalność innym klasom (poprzez mechanizm wielokrotnego dziedziczenia).\n",
    "Nie są samodzielnymi klasami i, w związku z tym, nie tworzy się instancji klas domieszkowych.\n",
    "Zazwyczaj nazwa takiej klasy kończy się sufixem ``Mixin`` (np. ``ComparableMixin``), ale nie jest to bezwględnie obowiązująca konwencja.\n",
    "\n",
    "Definiując klasę i wymieniając jej rodziców należy pamiętać, aby najpierw wymienić wszystkie klasy domieszkowe, a dopiero na końcu podać klasę bazową (chyba że jest nią ``object``).\n",
    "\n",
    "W przypadku porównywania obiektów wywoływana jest jedna z sześciu specjalnych metod (``__lt__``, ``__le__``, ``__eq__``, ``__ne__``, ``__gt__`` lub ``__ge__``).\n",
    "Wystarczy jednak zdefiniować dwie z nich (np. ``__le__`` i ``__eq__``), a pozostałe porównania to odpowiednia kombinacja tych dwóch metod.\n",
    "\n",
    "Poniżej przedstawiono klasę domieszkową ``ComparableMixin``.\n",
    "Jej użycie powoduje, że wystarczy zdefiniować metody ``__le__`` i ``__eq__``, aby obiekty klasy dziedziczącej po ``ComparableMixin`` mogły być porównywane.\n"
   ]
  },
  {
   "cell_type": "code",
   "execution_count": null,
   "metadata": {},
   "outputs": [],
   "source": [
    "class ComparableMixin:\n",
    "    def __ne__(self, other):\n",
    "        return not (self == other)\n",
    "    def __le__(self, other):\n",
    "        return self < other or (self == other)\n",
    "    def __gt__(self, other):\n",
    "        return not self <= other\n",
    "    def __ge__(self, other):\n",
    "        return self > other or self == other\n",
    "\n",
    "class MyInteger(ComparableMixin):  # klasą bazową jest \"object\"\n",
    "    def __init__(self, i):\n",
    "        self.i = i\n",
    "    def __lt__(self, other):\n",
    "        return self.i < other.i\n",
    "    def __eq__(self, other):\n",
    "        return self.i == other.i"
   ]
  },
  {
   "cell_type": "code",
   "execution_count": null,
   "metadata": {},
   "outputs": [
    {
     "data": {
      "text/plain": [
       "True"
      ]
     },
     "execution_count": 54,
     "metadata": {},
     "output_type": "execute_result"
    }
   ],
   "source": [
    "MyInteger(1) > MyInteger(0)"
   ]
  },
  {
   "attachments": {},
   "cell_type": "markdown",
   "metadata": {},
   "source": [
    "### Dziedziczenie po typach wbudowanych\n",
    "\n",
    "Od Pythona 2.2 można dziedziczyć po wszystkich typach wbudowanych."
   ]
  },
  {
   "cell_type": "code",
   "execution_count": null,
   "metadata": {},
   "outputs": [],
   "source": [
    "class CountDict(dict):\n",
    "    def __getitem__(self, key):\n",
    "        if key in self:\n",
    "            return super(CountDict, self).__getitem__(key)\n",
    "        else:\n",
    "            return 0"
   ]
  },
  {
   "cell_type": "code",
   "execution_count": null,
   "metadata": {},
   "outputs": [
    {
     "data": {
      "text/plain": [
       "0"
      ]
     },
     "execution_count": 90,
     "metadata": {},
     "output_type": "execute_result"
    }
   ],
   "source": [
    "cd = CountDict()\n",
    "cd['unknown-key']"
   ]
  },
  {
   "attachments": {},
   "cell_type": "markdown",
   "metadata": {},
   "source": [
    "### Dziedziczenie po typach niezmiennych\n",
    "\n",
    "Dla typów niezmiennych *(immutable)* nie działa przeciążanie konstruktora ``__init__``.\n",
    "Po utworzeniu obiektu jest już za późno na jakąkolwiek modyfikację."
   ]
  },
  {
   "cell_type": "code",
   "execution_count": null,
   "metadata": {},
   "outputs": [],
   "source": [
    "class PositiveInt(int):\n",
    "    def __new__(cls, value):\n",
    "        print('__new__')\n",
    "        obj = int.__new__(cls, value)\n",
    "        return obj if obj > 0 else -obj"
   ]
  },
  {
   "cell_type": "code",
   "execution_count": null,
   "metadata": {},
   "outputs": [
    {
     "name": "stdout",
     "output_type": "stream",
     "text": [
      "__new__\n"
     ]
    },
    {
     "data": {
      "text/plain": [
       "7"
      ]
     },
     "execution_count": 93,
     "metadata": {},
     "output_type": "execute_result"
    }
   ],
   "source": [
    "PositiveInt(-7)"
   ]
  },
  {
   "attachments": {},
   "cell_type": "markdown",
   "metadata": {},
   "source": [
    "Przykład ilustrujący gdzie przekazywane są argumenty:"
   ]
  },
  {
   "cell_type": "code",
   "execution_count": null,
   "metadata": {},
   "outputs": [],
   "source": [
    "class Test:\n",
    "    def __new__(cls, *args):\n",
    "        print('__new__', args)\n",
    "        obj = object.__new__(cls)\n",
    "        obj.new_attr = \"test\"\n",
    "        return obj\n",
    "    \n",
    "    def __init__(self, *args):\n",
    "        print('__init__', args)\n",
    "        self.args = args"
   ]
  },
  {
   "cell_type": "code",
   "execution_count": null,
   "metadata": {},
   "outputs": [
    {
     "name": "stdout",
     "output_type": "stream",
     "text": [
      "__new__ ('gadget', 42)\n",
      "__init__ ('gadget', 42)\n"
     ]
    }
   ],
   "source": [
    "t = Test(\"gadget\", 42)"
   ]
  },
  {
   "cell_type": "code",
   "execution_count": null,
   "metadata": {},
   "outputs": [
    {
     "data": {
      "text/plain": [
       "('gadget', 42)"
      ]
     },
     "execution_count": 97,
     "metadata": {},
     "output_type": "execute_result"
    }
   ],
   "source": [
    "t.args"
   ]
  },
  {
   "cell_type": "code",
   "execution_count": null,
   "metadata": {},
   "outputs": [
    {
     "data": {
      "text/plain": [
       "'test'"
      ]
     },
     "execution_count": 96,
     "metadata": {},
     "output_type": "execute_result"
    }
   ],
   "source": [
    "t.new_attr"
   ]
  },
  {
   "attachments": {},
   "cell_type": "markdown",
   "metadata": {},
   "source": [
    "### Abstract Base Classes\n",
    "\n",
    "W Pythonie stosowany jest duck-typing, w związku z tym nie ma potrzeby definiowania abstrakcyjnych klas lub interfejsów określających kontrakt.\n",
    "Warto jednak czasami jawnie określić kontrakt, to znaczy stworzyć abstrakcyjną klasę bazową i określić, jakie metody powinny zostać zdefiniowane.\n",
    "Nie tworzy się instancji takiej klasy - służy ona jedynie jako dokumentacja."
   ]
  },
  {
   "cell_type": "code",
   "execution_count": null,
   "metadata": {},
   "outputs": [],
   "source": [
    "import abc\n",
    "\n",
    "class BaseCalculator(abc.ABC):\n",
    "    @abc.abstractmethod\n",
    "    def process(self, expr):\n",
    "        pass\n",
    "\n",
    "class Calculator(BaseCalculator):\n",
    "    def process(self, expr):\n",
    "        return eval(expr)\n"
   ]
  },
  {
   "cell_type": "code",
   "execution_count": null,
   "metadata": {},
   "outputs": [
    {
     "data": {
      "text/plain": [
       "4"
      ]
     },
     "execution_count": 99,
     "metadata": {},
     "output_type": "execute_result"
    }
   ],
   "source": [
    "c = Calculator()\n",
    "c.process('2 + 2')"
   ]
  },
  {
   "attachments": {},
   "cell_type": "markdown",
   "metadata": {},
   "source": [
    "Jeżeli w klasie potomnej nie zostanie zdefiniowana wymagana metoda, zostanie rzucony wyjątek."
   ]
  },
  {
   "cell_type": "code",
   "execution_count": null,
   "metadata": {},
   "outputs": [],
   "source": [
    "class InvalidCalculator(BaseCalculator):\n",
    "    pass"
   ]
  },
  {
   "cell_type": "code",
   "execution_count": null,
   "metadata": {},
   "outputs": [
    {
     "ename": "TypeError",
     "evalue": "Can't instantiate abstract class InvalidCalculator with abstract methods process",
     "output_type": "error",
     "traceback": [
      "\u001b[0;31m---------------------------------------------------------------------------\u001b[0m",
      "\u001b[0;31mTypeError\u001b[0m                                 Traceback (most recent call last)",
      "\u001b[0;32m<ipython-input-101-4973d17f9fb6>\u001b[0m in \u001b[0;36m<module>\u001b[0;34m\u001b[0m\n\u001b[0;32m----> 1\u001b[0;31m \u001b[0mic\u001b[0m \u001b[0;34m=\u001b[0m \u001b[0mInvalidCalculator\u001b[0m\u001b[0;34m(\u001b[0m\u001b[0;34m)\u001b[0m\u001b[0;34m\u001b[0m\u001b[0;34m\u001b[0m\u001b[0m\n\u001b[0m",
      "\u001b[0;31mTypeError\u001b[0m: Can't instantiate abstract class InvalidCalculator with abstract methods process"
     ]
    }
   ],
   "source": [
    "ic = InvalidCalculator()"
   ]
  },
  {
   "attachments": {},
   "cell_type": "markdown",
   "metadata": {},
   "source": [
    "## Klasa jako obiekt\n",
    "\n",
    "W Pythonie wszystko jest obiektem, także klasa.\n",
    "Dlatego możemy mówić o *obiekcie klasy*.\n",
    "*obiekt klasy*, tak samo jak każdy obiekt, może być modyfikowany po jego utworzeniu."
   ]
  },
  {
   "cell_type": "code",
   "execution_count": null,
   "metadata": {},
   "outputs": [],
   "source": [
    "class Record:\n",
    "    pass\n",
    "\n",
    "Record.name = \"John\""
   ]
  },
  {
   "cell_type": "code",
   "execution_count": null,
   "metadata": {},
   "outputs": [
    {
     "data": {
      "text/plain": [
       "'John'"
      ]
     },
     "execution_count": 103,
     "metadata": {},
     "output_type": "execute_result"
    }
   ],
   "source": [
    "person = Record()\n",
    "person.name"
   ]
  },
  {
   "cell_type": "code",
   "execution_count": null,
   "metadata": {},
   "outputs": [
    {
     "data": {
      "text/plain": [
       "42"
      ]
     },
     "execution_count": 104,
     "metadata": {},
     "output_type": "execute_result"
    }
   ],
   "source": [
    "Record.age = 42\n",
    "person.age"
   ]
  },
  {
   "attachments": {},
   "cell_type": "markdown",
   "metadata": {},
   "source": [
    "Ma to wpływ na wszystkie instancje."
   ]
  },
  {
   "attachments": {},
   "cell_type": "markdown",
   "metadata": {},
   "source": [
    "## Class Builders (`@dataclass`)"
   ]
  },
  {
   "attachments": {},
   "cell_type": "markdown",
   "metadata": {},
   "source": [
    "Moduł `dataclasses` dostarcza dekorator, który umożliwia automatyczne generowanie wybranych metod specjalnych, takich jak `__init__()`, `__repr__()` lub `__eq__()`.\n",
    "\n",
    "Składowe obiektu, które są wykorzystywane w implementacjach metod, są definiowane na podstawie pól klasy wraz adnotacjami typu.\n",
    "\n",
    "Na przykład, dla poniższej klasy:"
   ]
  },
  {
   "cell_type": "code",
   "execution_count": 1,
   "metadata": {},
   "outputs": [],
   "source": [
    "from dataclasses import dataclass\n",
    "\n",
    "@dataclass\n",
    "class LineItem:\n",
    "    name: str\n",
    "    unit_price: float\n",
    "    quantity: int = 0\n",
    "\n",
    "    def total(self) -> float:\n",
    "        return self.unit_price * self.quantity"
   ]
  },
  {
   "attachments": {},
   "cell_type": "markdown",
   "metadata": {},
   "source": [
    "wygenerowana zostanie funkcja `__init__()`, która wygląda następująco:"
   ]
  },
  {
   "cell_type": "code",
   "execution_count": 2,
   "metadata": {},
   "outputs": [],
   "source": [
    "def __init__(self, name: str, unit_price: float, quantity: int = 0):\n",
    "    self.name = name\n",
    "    self.unit_price = unit_price\n",
    "    self.quantity = quantity"
   ]
  },
  {
   "attachments": {},
   "cell_type": "markdown",
   "metadata": {},
   "source": [
    "Stosując dekorator `@dataclass` możemy dużo szybciej tworzyć proste klasy i rozbudowywać je dodając do nich potrzebne metody."
   ]
  },
  {
   "cell_type": "code",
   "execution_count": 4,
   "metadata": {},
   "outputs": [
    {
     "data": {
      "text/plain": [
       "\"LineItem(name='ipad', unit_price=7665.0, quantity=1)\""
      ]
     },
     "execution_count": 4,
     "metadata": {},
     "output_type": "execute_result"
    }
   ],
   "source": [
    "line_1 = LineItem(\"ipad\", 7665.0, 1)\n",
    "repr(line_1)"
   ]
  },
  {
   "cell_type": "code",
   "execution_count": 5,
   "metadata": {},
   "outputs": [
    {
     "data": {
      "text/plain": [
       "7665.0"
      ]
     },
     "execution_count": 5,
     "metadata": {},
     "output_type": "execute_result"
    }
   ],
   "source": [
    "line_1.total()"
   ]
  },
  {
   "attachments": {},
   "cell_type": "markdown",
   "metadata": {},
   "source": [
    "### Parametry dekoratora `@dataclass`"
   ]
  },
  {
   "attachments": {},
   "cell_type": "markdown",
   "metadata": {},
   "source": [
    "Do dekoratora `@dataclass` możemy przekazać następujące paramtetry:\n",
    "\n",
    "| Parametr      | Wartość domyślna | Efekt (jeśli `True`)                                                              |\n",
    "|---------------|------------------|-----------------------------------------------------------------------------------|\n",
    "| `init`        | `True`           | definicja metody `__init__`                                                       |\n",
    "| `repr`        | `True`           | definicja metody `__repr__` (jeśli klasa nie definiuje własnej implementacji)     |\n",
    "| `eq`          | `True`           | definicja metody `__eq__` (instancje są porównywane jak krotki)                   |\n",
    "| `order`       | `False`          | definicja metod `__lt__()`, `__le__()`, `__gt__()`, and `__ge__()`                |\n",
    "| `unsafe_hash` | `False`          | definicja metody `__hash__()` (ta opcja implikuje, że instancje powinny być *immutable*)   |\n",
    "| `frozen`      | `False`          | próba przypisania wartości dla pola generuje wyjątek (instancje są *immutable*)   |\n",
    "| `match_args`  | `True`           | tworzona jest krotka `__match_args__` z listy parametrów metody `__init__()`      |\n",
    "| `slots`       | `True`           | generowany jest atrybut `__slots__` i nowa klasa jest zwrócona w miejsce klasy ogryginalnej  |\n",
    "\n"
   ]
  },
  {
   "cell_type": "code",
   "execution_count": 18,
   "metadata": {},
   "outputs": [],
   "source": [
    "@dataclass(order=True, unsafe_hash=True, frozen=True)\n",
    "class Person:\n",
    "    name: str\n",
    "    age: int"
   ]
  },
  {
   "cell_type": "code",
   "execution_count": 19,
   "metadata": {},
   "outputs": [
    {
     "data": {
      "text/plain": [
       "[Person(name='Adam', age=33),\n",
       " Person(name='Eve', age=44),\n",
       " Person(name='John', age=33)]"
      ]
     },
     "execution_count": 19,
     "metadata": {},
     "output_type": "execute_result"
    }
   ],
   "source": [
    "people = [Person(\"John\", 33), Person(\"Eve\", 44), Person(\"Adam\", 33)]\n",
    "sorted(people)"
   ]
  },
  {
   "cell_type": "code",
   "execution_count": 20,
   "metadata": {},
   "outputs": [
    {
     "data": {
      "text/plain": [
       "-5191814165429172402"
      ]
     },
     "execution_count": 20,
     "metadata": {},
     "output_type": "execute_result"
    }
   ],
   "source": [
    "hash(people[0])"
   ]
  },
  {
   "cell_type": "code",
   "execution_count": 21,
   "metadata": {},
   "outputs": [
    {
     "ename": "FrozenInstanceError",
     "evalue": "cannot assign to field 'name'",
     "output_type": "error",
     "traceback": [
      "\u001b[0;31m---------------------------------------------------------------------------\u001b[0m",
      "\u001b[0;31mFrozenInstanceError\u001b[0m                       Traceback (most recent call last)",
      "\u001b[0;32m<ipython-input-21-2c1af0d06026>\u001b[0m in \u001b[0;36m<module>\u001b[0;34m\u001b[0m\n\u001b[0;32m----> 1\u001b[0;31m \u001b[0mpeople\u001b[0m\u001b[0;34m[\u001b[0m\u001b[0;36m0\u001b[0m\u001b[0;34m]\u001b[0m\u001b[0;34m.\u001b[0m\u001b[0mname\u001b[0m \u001b[0;34m=\u001b[0m \u001b[0;34m\"Unknown\"\u001b[0m\u001b[0;34m\u001b[0m\u001b[0;34m\u001b[0m\u001b[0m\n\u001b[0m",
      "\u001b[0;32m<string>\u001b[0m in \u001b[0;36m__setattr__\u001b[0;34m(self, name, value)\u001b[0m\n",
      "\u001b[0;31mFrozenInstanceError\u001b[0m: cannot assign to field 'name'"
     ]
    }
   ],
   "source": [
    "people[0].name = \"Unknown\""
   ]
  },
  {
   "attachments": {},
   "cell_type": "markdown",
   "metadata": {},
   "source": [
    "### Implementacja składowych"
   ]
  },
  {
   "attachments": {},
   "cell_type": "markdown",
   "metadata": {},
   "source": [
    "Funkcja `field()` precyzuje sposób, w jaki dane pole jest implementowane."
   ]
  },
  {
   "cell_type": "code",
   "execution_count": 35,
   "metadata": {},
   "outputs": [],
   "source": [
    "from typing import List\n",
    "from dataclasses import field\n",
    "\n",
    "\n",
    "@dataclass(order=True)\n",
    "class Person:\n",
    "    name: str\n",
    "    age: int = field(compare=False)\n",
    "    friends: List['Person'] = field(default_factory=list)"
   ]
  },
  {
   "cell_type": "code",
   "execution_count": 36,
   "metadata": {},
   "outputs": [
    {
     "data": {
      "text/plain": [
       "True"
      ]
     },
     "execution_count": 36,
     "metadata": {},
     "output_type": "execute_result"
    }
   ],
   "source": [
    "p1 = Person(\"John\", 44)\n",
    "p2 = Person(\"John\", 23)\n",
    "p1 == p2"
   ]
  },
  {
   "cell_type": "code",
   "execution_count": 37,
   "metadata": {},
   "outputs": [
    {
     "data": {
      "text/plain": [
       "Person(name='John', age=44, friends=[Person(name='John', age=23, friends=[])])"
      ]
     },
     "execution_count": 37,
     "metadata": {},
     "output_type": "execute_result"
    }
   ],
   "source": [
    "p1.friends.append(p2)\n",
    "p1"
   ]
  },
  {
   "attachments": {},
   "cell_type": "markdown",
   "metadata": {},
   "source": [
    "Opcje funkcji `field()`:\n",
    "\n",
    "* `default` - domyślna wartość dla pola\n",
    "* `default_factory` - funkcja bezargumentowa, która tworzy domyślną instancję przypisywaną do pola\n",
    "* `init` - jeśli `True`, pole jest użyte jako parametr metody `__init__()`\n",
    "* `repr` - jeśli `True`, pole jest użyte w implementacji metody `__repr__()`\n",
    "* `hash` - jeśli `True`, pole jest użyte w implementacji metody `__hash__()`\n",
    "* `compare` - jeśli `True`, pole jest użyte w implementacji metod `__eq__()` i innych\n"
   ]
  },
  {
   "attachments": {},
   "cell_type": "markdown",
   "metadata": {},
   "source": [
    "### Przydatne metody dataclass'y"
   ]
  },
  {
   "attachments": {},
   "cell_type": "markdown",
   "metadata": {},
   "source": [
    "* `fields()` - zwraca krotkę pól klasy"
   ]
  },
  {
   "cell_type": "code",
   "execution_count": 39,
   "metadata": {},
   "outputs": [
    {
     "data": {
      "text/plain": [
       "(Field(name='name',type=<class 'str'>,default=<dataclasses._MISSING_TYPE object at 0x7f8fbd270a60>,default_factory=<dataclasses._MISSING_TYPE object at 0x7f8fbd270a60>,init=True,repr=True,hash=None,compare=True,metadata=mappingproxy({}),_field_type=_FIELD),\n",
       " Field(name='age',type=<class 'int'>,default=<dataclasses._MISSING_TYPE object at 0x7f8fbd270a60>,default_factory=<dataclasses._MISSING_TYPE object at 0x7f8fbd270a60>,init=True,repr=True,hash=None,compare=False,metadata=mappingproxy({}),_field_type=_FIELD),\n",
       " Field(name='friends',type=typing.List[ForwardRef('Person')],default=<dataclasses._MISSING_TYPE object at 0x7f8fbd270a60>,default_factory=<class 'list'>,init=True,repr=True,hash=None,compare=True,metadata=mappingproxy({}),_field_type=_FIELD))"
      ]
     },
     "execution_count": 39,
     "metadata": {},
     "output_type": "execute_result"
    }
   ],
   "source": [
    "import dataclasses\n",
    "\n",
    "dataclasses.fields(Person)"
   ]
  },
  {
   "attachments": {},
   "cell_type": "markdown",
   "metadata": {},
   "source": [
    "* `asdict()` - konweruje instancję dataclass'y do słownika"
   ]
  },
  {
   "cell_type": "code",
   "execution_count": 40,
   "metadata": {},
   "outputs": [
    {
     "data": {
      "text/plain": [
       "{'name': 'John',\n",
       " 'age': 44,\n",
       " 'friends': [{'name': 'John', 'age': 23, 'friends': []}]}"
      ]
     },
     "execution_count": 40,
     "metadata": {},
     "output_type": "execute_result"
    }
   ],
   "source": [
    "dataclasses.asdict(p1)"
   ]
  },
  {
   "attachments": {},
   "cell_type": "markdown",
   "metadata": {},
   "source": [
    "* `astuple()` - konwertuje instancję do krotki"
   ]
  },
  {
   "cell_type": "code",
   "execution_count": 41,
   "metadata": {},
   "outputs": [
    {
     "data": {
      "text/plain": [
       "('John', 23, [])"
      ]
     },
     "execution_count": 41,
     "metadata": {},
     "output_type": "execute_result"
    }
   ],
   "source": [
    "dataclasses.astuple(p2)"
   ]
  },
  {
   "attachments": {},
   "cell_type": "markdown",
   "metadata": {},
   "source": [
    "* `replace(obj, **changes)` - tworzy nową instancję na podstawie `obj` ze zmienionymi wartościami pól z `**changes`"
   ]
  },
  {
   "cell_type": "code",
   "execution_count": 42,
   "metadata": {},
   "outputs": [
    {
     "data": {
      "text/plain": [
       "Person(name='John', age=88, friends=[Person(name='John', age=23, friends=[])])"
      ]
     },
     "execution_count": 42,
     "metadata": {},
     "output_type": "execute_result"
    }
   ],
   "source": [
    "dataclasses.replace(p1, age = 88)"
   ]
  },
  {
   "attachments": {},
   "cell_type": "markdown",
   "metadata": {},
   "source": [
    "### Post-init "
   ]
  },
  {
   "attachments": {},
   "cell_type": "markdown",
   "metadata": {},
   "source": [
    "Metoda `__post_init__()` umożliwia inicjalizację tzw. pól wyliczanych:"
   ]
  },
  {
   "cell_type": "code",
   "execution_count": 45,
   "metadata": {},
   "outputs": [],
   "source": [
    "@dataclass\n",
    "class LineItem:\n",
    "    name: str\n",
    "    unit_price: float\n",
    "    quantity: int = 0\n",
    "    total: float = field(init=False)\n",
    "\n",
    "    def __post_init__(self):\n",
    "        self.total = self.unit_price * self.quantity"
   ]
  },
  {
   "cell_type": "code",
   "execution_count": 47,
   "metadata": {},
   "outputs": [
    {
     "data": {
      "text/plain": [
       "15999.98"
      ]
     },
     "execution_count": 47,
     "metadata": {},
     "output_type": "execute_result"
    }
   ],
   "source": [
    "line_1 = LineItem(\"ipad\", 7999.99, 2)\n",
    "line_1.total"
   ]
  },
  {
   "attachments": {},
   "cell_type": "markdown",
   "metadata": {},
   "source": [
    "### Pola klasy"
   ]
  },
  {
   "cell_type": "code",
   "execution_count": 57,
   "metadata": {},
   "outputs": [],
   "source": [
    "from typing import ClassVar\n",
    "\n",
    "\n",
    "@dataclass\n",
    "class Entity:\n",
    "    id: int\n",
    "    count: ClassVar[int] = 0\n",
    "\n",
    "    def __new__(cls, *args, **kwargs):\n",
    "        cls.count += 1\n",
    "        return super().__new__(cls)\n",
    "        "
   ]
  },
  {
   "cell_type": "code",
   "execution_count": 58,
   "metadata": {},
   "outputs": [],
   "source": [
    "entities = [Entity(id) for id in range(1, 11)]"
   ]
  },
  {
   "cell_type": "code",
   "execution_count": 59,
   "metadata": {},
   "outputs": [
    {
     "data": {
      "text/plain": [
       "10"
      ]
     },
     "execution_count": 59,
     "metadata": {},
     "output_type": "execute_result"
    }
   ],
   "source": [
    "Entity.count"
   ]
  }
 ],
 "metadata": {
  "kernelspec": {
   "display_name": "jb",
   "language": "python",
   "name": "python3"
  },
  "language_info": {
   "codemirror_mode": {
    "name": "ipython",
    "version": 3
   },
   "file_extension": ".py",
   "mimetype": "text/x-python",
   "name": "python",
   "nbconvert_exporter": "python",
   "pygments_lexer": "ipython3",
   "version": "3.8.8"
  },
  "orig_nbformat": 4
 },
 "nbformat": 4,
 "nbformat_minor": 2
}
